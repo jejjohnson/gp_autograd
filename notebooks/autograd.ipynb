{
 "cells": [
  {
   "cell_type": "markdown",
   "metadata": {},
   "source": [
    "# Gaussian Processes with Autogradients"
   ]
  },
  {
   "cell_type": "markdown",
   "metadata": {},
   "source": [
    "So Gaussian processes are a very popular machine learning algorithm for regression. They have useful properties due to the having flexible kernels as well as access to the derivative. However, they can be a bit difficult to program because there is an optimization step. In either case, the autogradient function should be useful in many aspects and I will attempt to use that functionality for the following parts of the GP Algorithm:\n",
    "* Predictive Mean\n",
    "* Negative Log Maximum Likelihood\n",
    "* Predictive Variance\n",
    "\n",
    "My code will be a rough representation of a few repos:\n",
    "\n",
    "* Sklearn - [GaussianProcessRegressor](https://github.com/scikit-learn/scikit-learn/blob/f0ab589f/sklearn/gaussian_process/gpr.py)\n",
    "* AMOGAPE - [AMOGAPE](https://github.com/dhsvendsen/AMOGAPE/blob/master/mintGP.py)\n",
    "* Autograd - [gaussian process](https://github.com/geostk/autograd/blob/master/examples/gaussian_process.py)\n",
    "\n",
    "I will have a class implementation based on the scikit-learn framework."
   ]
  },
  {
   "cell_type": "code",
   "execution_count": 1,
   "metadata": {},
   "outputs": [],
   "source": [
    "import numpy as np"
   ]
  },
  {
   "cell_type": "code",
   "execution_count": 87,
   "metadata": {},
   "outputs": [
    {
     "name": "stdout",
     "output_type": "stream",
     "text": [
      "The autoreload extension is already loaded. To reload it, use:\n",
      "  %reload_ext autoreload\n"
     ]
    }
   ],
   "source": [
    "import autograd\n",
    "import autograd.numpy as np\n",
    "from autograd import value_and_grad, elementwise_grad as egrad \n",
    "from sklearn.base import BaseEstimator, RegressorMixin\n",
    "from sklearn.gaussian_process.kernels import (_check_length_scale)\n",
    "from sklearn.metrics.pairwise import check_pairwise_arrays\n",
    "from sklearn.utils import check_random_state\n",
    "from sklearn.utils.validation import check_X_y, check_array\n",
    "from scipy.spatial.distance import pdist, cdist, squareform\n",
    "import matplotlib.pyplot as plt\n",
    "from scipy.optimize import minimize\n",
    "%matplotlib inline\n",
    "\n",
    "import sys\n",
    "sys.path.insert(0,'/Users/eman/Documents/code_projects/kernellib/')\n",
    "sys.path.insert(0,'/home/emmanuel/Drives/erc/code/kernellib')\n",
    "\n",
    "%load_ext autoreload\n",
    "%autoreload 2"
   ]
  },
  {
   "cell_type": "markdown",
   "metadata": {},
   "source": [
    "### Data"
   ]
  },
  {
   "cell_type": "code",
   "execution_count": 88,
   "metadata": {},
   "outputs": [
    {
     "name": "stdout",
     "output_type": "stream",
     "text": [
      "X training data: (20, 1)\n",
      "X testing data: (1000, 1)\n"
     ]
    },
    {
     "data": {
      "image/png": "[encoded data removed]",
      "text/plain": [
       "<Figure size 360x216 with 1 Axes>"
      ]
     },
     "metadata": {},
     "output_type": "display_data"
    }
   ],
   "source": [
    "# get some toy data\n",
    "d_dimensions = 1\n",
    "n_samples = 20\n",
    "noise_std = 0.1\n",
    "seed = 123\n",
    "rs = np.random.RandomState(seed)\n",
    "\n",
    "n_train = 20\n",
    "n_test = 1000\n",
    "xtrain = np.linspace(-4, 5, n_train).reshape(n_train, 1)\n",
    "xtest = np.linspace(-4, 5, n_test).reshape(n_test, 1)\n",
    "print('X training data:', xtrain.shape)\n",
    "print('X testing data:', xtest.shape)\n",
    "\n",
    "\n",
    "# Labels\n",
    "f = lambda x: np.sin(x) * np.exp(0.2 * x)\n",
    "ytrain = f(xtrain) + noise_std * np.random.randn(n_train, 1)\n",
    "ytest = f(xtest)\n",
    "# Plot the function\n",
    "fig, ax = plt.subplots(figsize=(5, 3))\n",
    "\n",
    "ax.scatter(xtrain, ytrain)\n",
    "ax.plot(xtest, ytest)\n",
    "\n",
    "plt.show()\n"
   ]
  },
  {
   "cell_type": "markdown",
   "metadata": {},
   "source": [
    "## Kernel Function (RBF)"
   ]
  },
  {
   "cell_type": "code",
   "execution_count": 89,
   "metadata": {},
   "outputs": [],
   "source": [
    "from sklearn.gaussian_process.kernels import (ConstantKernel as C, \n",
    "                                              RBF, WhiteKernel)"
   ]
  },
  {
   "cell_type": "code",
   "execution_count": 90,
   "metadata": {},
   "outputs": [],
   "source": [
    "def rbf_covariance(X, y=None, signal_variance=1.0, length_scale=1.0):\n",
    "    if y is None:\n",
    "        y = X\n",
    "    D = np.expand_dims(X / length_scale, 1) - np.expand_dims(y / length_scale, 0)\n",
    "    return signal_variance * np.exp(-0.5 * np.sum(D**2, axis=2))"
   ]
  },
  {
   "cell_type": "code",
   "execution_count": 91,
   "metadata": {},
   "outputs": [],
   "source": [
    "signal_variance = 1.0\n",
    "length_scale = 1.0\n",
    "K = rbf_covariance(xtrain, signal_variance=signal_variance, length_scale=length_scale)\n"
   ]
  },
  {
   "cell_type": "code",
   "execution_count": 92,
   "metadata": {},
   "outputs": [],
   "source": [
    "# Check if it is the same implementation as the sklearn package\n",
    "sk_kernel = C() * RBF()\n",
    "K2 = sk_kernel(xtrain)\n",
    "\n",
    "assert(K.all()==K2.all())"
   ]
  },
  {
   "cell_type": "markdown",
   "metadata": {},
   "source": [
    "### GP Implementation"
   ]
  },
  {
   "cell_type": "code",
   "execution_count": 93,
   "metadata": {},
   "outputs": [],
   "source": [
    "from sklearn.gaussian_process import GaussianProcessRegressor\n",
    "from sklearn.gaussian_process.kernels import (ConstantKernel as C, \n",
    "                                              RBF, WhiteKernel)"
   ]
  },
  {
   "cell_type": "code",
   "execution_count": 94,
   "metadata": {},
   "outputs": [
    {
     "name": "stdout",
     "output_type": "stream",
     "text": [
      "(20, 1)\n",
      "Signal Variance: 2.563\n",
      "Length Scale: 2.057\n",
      "Noise Level: 0.010\n"
     ]
    }
   ],
   "source": [
    "gp_kernel = C() * RBF() + WhiteKernel()\n",
    "gp_model = GaussianProcessRegressor(kernel=gp_kernel, random_state=seed, n_restarts_optimizer=0)\n",
    "\n",
    "gp_model.fit(xtrain, ytrain)\n",
    "y_pred, y_var = gp_model.predict(xtest, return_std=True)\n",
    "\n",
    "signal_variance = gp_model.kernel_.get_params()['k1__k1__constant_value']\n",
    "length_scale = gp_model.kernel_.get_params()['k1__k2__length_scale']\n",
    "noise_level = gp_model.kernel_.get_params()['k2__noise_level']\n",
    "print(gp_model.alpha_.shape)\n",
    "# Kernel Parameters\n",
    "print('Signal Variance: {:.3f}'.format(signal_variance))\n",
    "print('Length Scale: {:.3f}'.format(length_scale))\n",
    "print('Noise Level: {:.3f}'.format(noise_level))"
   ]
  },
  {
   "cell_type": "code",
   "execution_count": 95,
   "metadata": {},
   "outputs": [
    {
     "name": "stdout",
     "output_type": "stream",
     "text": [
      "20.7 ms ± 854 µs per loop (mean ± std. dev. of 7 runs, 10 loops each)\n"
     ]
    }
   ],
   "source": [
    "%timeit gp_model.fit(xtrain, ytrain)"
   ]
  },
  {
   "cell_type": "code",
   "execution_count": 96,
   "metadata": {},
   "outputs": [
    {
     "data": {
      "image/png": "[encoded data removed]",
      "text/plain": [
       "<Figure size 432x288 with 1 Axes>"
      ]
     },
     "metadata": {},
     "output_type": "display_data"
    }
   ],
   "source": [
    "fig, ax = plt.subplots()\n",
    "\n",
    "ax.scatter(xtrain, ytrain)\n",
    "ax.plot(xtest, y_pred)\n",
    "\n",
    "plt.show()"
   ]
  },
  {
   "cell_type": "markdown",
   "metadata": {},
   "source": [
    "## Log Likelihood"
   ]
  },
  {
   "cell_type": "code",
   "execution_count": 4,
   "metadata": {},
   "outputs": [],
   "source": [
    "from scipy.linalg import cholesky, solve,cho_solve, solve_triangular\n",
    "import autograd.scipy.stats.multivariate_normal as mvn\n",
    "from scipy.optimize import minimize, fmin_bfgs\n",
    "import warnings\n",
    "import autograd\n",
    "import autograd.numpy as np\n",
    "from autograd import value_and_grad, grad, elementwise_grad as egrad "
   ]
  },
  {
   "cell_type": "markdown",
   "metadata": {},
   "source": [
    "## Using Closed-Form"
   ]
  },
  {
   "cell_type": "code",
   "execution_count": null,
   "metadata": {},
   "outputs": [],
   "source": [
    "class GaussianProcess(BaseEstimator, RegressorMixin):\n",
    "    def __init__(self, jitter=1e-10, random_state=None, mean=0.0, \n",
    "                 signal_variance=1.0, length_scale=1.0,\n",
    "                 noise_likelihood=0.01, n_restarts_optimizer=0):\n",
    "        self.jitter = jitter\n",
    "        self.random_state = random_state\n",
    "        self.mean = mean\n",
    "        self.signal_variance = signal_variance\n",
    "        self.length_scale = length_scale\n",
    "        self.noise_likelihood = noise_likelihood\n",
    "        self.n_restarts_optimizer = n_restarts_optimizer\n",
    "        \n",
    "    def fit(self, X, y):\n",
    "        \n",
    "        self.X_train_ = X\n",
    "        self.y_train_ = y\n",
    "        \n",
    "        # initial hyper-parameters\n",
    "        theta0 = np.array([self.mean,\n",
    "                           self.signal_variance,\n",
    "                           self.noise_likelihood,\n",
    "                           self.length_scale])\n",
    "        bounds = ((1e-3, 1e3), (1e-10, 1e10), (1e-10, 1e10), (1e-10, 1e10))\n",
    "        # define objective\n",
    "        objective = lambda theta: -self.log_marginal_likelihood(theta)\n",
    "        \n",
    "        # minimize the objective function\n",
    "        best_params = minimize(value_and_grad(objective), theta0, jac=True,\n",
    "                               method='L-BFGS-B', bounds=bounds)\n",
    "        \n",
    "        # extract best params\n",
    "        print(best_params)\n",
    "        \n",
    "        return self\n",
    "    \n",
    "    def predict(self, X, return_std=False):\n",
    "        mean, signal_variance, noise_likelihood, length_scale = \\\n",
    "            self._get_kernel_params(self, self.theta)\n",
    "        \n",
    "        # Train test kernel\n",
    "        K_train = self.rbf_covariance(X, signal_variance=signal_variance,\n",
    "                                 length_scale=length_scale)\n",
    "        K_trans = self.rbf_covariance(self.X_train_, X,\n",
    "                                 signal_variance=signal_variance, \n",
    "                                 length_scale=length_scale)\n",
    "        \n",
    "        pred_mean = mean + np.dot(solve(K_train, K_trans).T, self.y_train_ )\n",
    "        \n",
    "        if not return_std:\n",
    "            return pred_mean\n",
    "        else:\n",
    "            return None\n",
    "\n",
    "    def log_marginal_likelihood(self, theta):\n",
    "        \n",
    "        mean, signal_variance, noise_likelihood, length_scale = \\\n",
    "            self._get_kernel_params(theta)\n",
    "        print(theta)\n",
    "        n_samples = self.X_train_.shape[0]\n",
    "        \n",
    "        # train kernel\n",
    "        K = self.rbf_covariance(self.X_train_, length_scale=length_scale,\n",
    "                           signal_variance=signal_variance)\n",
    "        K += noise_likelihood * np.eye(n_samples)\n",
    "#         mean = 0.0\n",
    "        prior_mean = mean * np.ones(n_samples)\n",
    "        \n",
    "        return mvn.logpdf(self.y_train_.squeeze(), prior_mean, K)\n",
    "    \n",
    "    def _get_kernel_params(self, theta):\n",
    "        \n",
    "        mean = theta[0]\n",
    "        signal_variance = theta[1]\n",
    "        noise_likelihood = np.exp(theta[2]) + self.jitter\n",
    "        length_scale = theta[3:]\n",
    "        \n",
    "        return mean, signal_variance, noise_likelihood, length_scale\n",
    "    \n",
    "    @staticmethod\n",
    "    def rbf_covariance(X, y=None, signal_variance=1.0, length_scale=1.0):\n",
    "        if y is None:\n",
    "            y = X\n",
    "        D = np.expand_dims(X / length_scale, 1) - np.expand_dims(y / length_scale, 0)\n",
    "        \n",
    "        return signal_variance * np.exp(-0.5 * np.sum(D**2, axis=2))"
   ]
  },
  {
   "cell_type": "code",
   "execution_count": null,
   "metadata": {},
   "outputs": [],
   "source": [
    "gp_model = GaussianProcess()\n",
    "gp_model.fit(xtrain, ytrain);"
   ]
  },
  {
   "cell_type": "markdown",
   "metadata": {},
   "source": [
    "## Using PDFs"
   ]
  },
  {
   "cell_type": "code",
   "execution_count": 209,
   "metadata": {},
   "outputs": [
    {
     "name": "stdout",
     "output_type": "stream",
     "text": [
      "-4.605170185988091\n"
     ]
    }
   ],
   "source": [
    "print(np.log(0.01))"
   ]
  },
  {
   "cell_type": "code",
   "execution_count": 97,
   "metadata": {},
   "outputs": [],
   "source": [
    "class GaussianProcess(BaseEstimator, RegressorMixin):\n",
    "    def __init__(self, jitter=1e-8, random_state=None):\n",
    "        self.jitter = jitter\n",
    "        self.random_state = random_state\n",
    "        \n",
    "    def init_theta(self):\n",
    "        \"\"\"Initializes the hyperparameters.\"\"\"\n",
    "        signal_variance = 1.0\n",
    "        length_scale = np.ones(self.X_train_.shape[1])\n",
    "        noise_likelihood = 0.01\n",
    "        theta = np.array([signal_variance, noise_likelihood, length_scale])\n",
    "        return np.log(theta)\n",
    "        \n",
    "    def fit(self, X, y):\n",
    "        \n",
    "        self.X_train_ = X\n",
    "        self.y_train_ = y\n",
    "        \n",
    "        # initial hyper-parameters\n",
    "        theta0 = self.init_theta()\n",
    "                \n",
    "        \n",
    "        # minimize the objective function\n",
    "        best_params = minimize(value_and_grad(self.log_marginal_likelihood), theta0, jac=True,\n",
    "                               method='L-BFGS-B')\n",
    "        # Gather hyper parameters\n",
    "        signal_variance, noise_likelihood, length_scale = \\\n",
    "            self._get_kernel_params(best_params.x)\n",
    "        \n",
    "        self.signal_variance = np.exp(signal_variance)\n",
    "        self.noise_likelihood = np.exp(noise_likelihood)\n",
    "        self.length_scale = np.exp(length_scale)\n",
    "\n",
    "        # Calculate the weights\n",
    "        K = self.rbf_covariance(X, length_scale=self.length_scale,\n",
    "                                signal_variance=self.signal_variance) \n",
    "        K += self.noise_likelihood * np.eye(K.shape[0])\n",
    "        L = np.linalg.cholesky(K + self.jitter * np.eye(K.shape[0]))\n",
    "        weights = np.linalg.solve(L.T, np.linalg.solve(L, y))\n",
    "        \n",
    "        self.weights = weights\n",
    "        self.L = L\n",
    "        self.K = K\n",
    "        return self\n",
    "    \n",
    "    def log_marginal_likelihood(self, theta):\n",
    "        x_train = self.X_train_\n",
    "        y_train = self.y_train_\n",
    "        \n",
    "        if np.ndim == 1:\n",
    "            y_train = y_train[:, np.newaxis]\n",
    "            \n",
    "        # Gather hyper parameters\n",
    "        signal_variance, noise_likelihood, length_scale = \\\n",
    "            self._get_kernel_params(theta)\n",
    "        signal_variance = np.exp(signal_variance)\n",
    "        noise_likelihood = np.exp(noise_likelihood)\n",
    "        length_scale = np.exp(length_scale)\n",
    "        \n",
    "        n_samples = x_train.shape[0]\n",
    "        \n",
    "        # train kernel\n",
    "        K = self.rbf_covariance(x_train, length_scale=length_scale,\n",
    "                                signal_variance=signal_variance) \n",
    "        K += noise_likelihood * np.eye(n_samples)\n",
    "        L = np.linalg.cholesky(K + self.jitter * np.eye(n_samples) )\n",
    "        weights = np.linalg.solve(L.T, np.linalg.solve(L, y_train))\n",
    "        log_likelihood_dims = -0.5 * np.einsum(\"ik,ik->k\", y_train, weights)\n",
    "        log_likelihood_dims -= np.log(np.diag(L)).sum()\n",
    "        log_likelihood_dims -= (K.shape[0] / 2) * np.log(2 * np.pi)\n",
    "        \n",
    "        log_likelihood = log_likelihood_dims.sum(-1)\n",
    "        \n",
    "        return -log_likelihood    \n",
    "    \n",
    "    def predict(self, X, return_std=False):\n",
    "\n",
    "        # Train test kernel\n",
    "        K_trans = self.rbf_covariance(X, self.X_train_, \n",
    "                                      length_scale=self.length_scale, \n",
    "                                      signal_variance=self.signal_variance)        \n",
    "        \n",
    "        pred_mean = np.dot(K_trans, self.weights)\n",
    "        \n",
    "        if not return_std:\n",
    "            return pred_mean\n",
    "        else:\n",
    "            return pred_mean, self.variance(X, K_trans=K_trans)\n",
    "\n",
    "    def variance(self, X, K_trans=None):\n",
    "\n",
    "        L_inv = solve_triangular(self.L.T, np.eye(self.L.shape[0]))\n",
    "        K_inv = np.dot(L_inv, L_inv.T)\n",
    "        if K_trans is None:\n",
    "            K_trans = self.rbf_covariance(X, y=self.X_train_,\n",
    "                                          length_scale=self.length_scale,\n",
    "                                          signal_variance=self.signal_variance)\n",
    "\n",
    "        # compute the variance\n",
    "        y_var = np.diag(self.rbf_covariance(X, length_scale=self.length_scale,\n",
    "                                            signal_variance=self.signal_variance)) \\\n",
    "                + self.noise_likelihood\n",
    "        y_var -= np.einsum(\"ij,ij->i\", np.dot(K_trans, K_inv), K_trans)\n",
    "\n",
    "        return y_var\n",
    "\n",
    "    \n",
    "    def _get_kernel_params(self, theta):\n",
    "        \n",
    "        signal_variance = theta[0]\n",
    "        noise_likelihood = theta[1] + self.jitter\n",
    "        length_scale = theta[2:]\n",
    "        \n",
    "        return signal_variance, noise_likelihood, length_scale\n",
    "    \n",
    "    def rbf_covariance(self, X, y=None, signal_variance=1.0, length_scale=1.0):\n",
    "        \n",
    "        if y is None:\n",
    "            y = X\n",
    "            \n",
    "        D = np.expand_dims(X / length_scale, 1) - np.expand_dims(y / length_scale, 0)\n",
    "        \n",
    "        return signal_variance * np.exp(-0.5 * np.sum(D**2, axis=2))\n",
    "    def mu_grad(self, X, nder=1, return_std=False):\n",
    "\n",
    "        # Construct the autogradient function for the\n",
    "        # predictive mean\n",
    "        mu = lambda x: self.predict(x)\n",
    "\n",
    "        if nder == 1:\n",
    "            grad_mu = egrad(mu)\n",
    "\n",
    "            if not return_std:\n",
    "                return grad_mu(X)\n",
    "            else:\n",
    "                return grad_mu(X), self.sigma_grad(X, nder=1)\n",
    "        else:\n",
    "            grad_mu = egrad(egrad(mu))\n",
    "            if not return_std:\n",
    "                return grad_mu(X)\n",
    "            else:\n",
    "                return grad_mu(X), self.sigma_grad(X, nder=2)\n",
    "\n",
    "    def sigma_grad(self, X, nder=1):\n",
    "\n",
    "        # Construct the autogradient function for the\n",
    "        # predictive variance\n",
    "        sigma = lambda x: self.variance(x)\n",
    "\n",
    "        if nder == 1:\n",
    "            grad_var = egrad(sigma)\n",
    "            return grad_var(X)\n",
    "        else:\n",
    "            grad_var = egrad(egrad(sigma))\n",
    "            return grad_var(X)"
   ]
  },
  {
   "cell_type": "code",
   "execution_count": 98,
   "metadata": {},
   "outputs": [],
   "source": [
    "gp_model = GaussianProcess()\n",
    "gp_model.fit(xtrain, ytrain);\n",
    "y_pred = gp_model.predict(xtest)\n",
    "y_pred, y_var = gp_model.predict(xtest, return_std=True)"
   ]
  },
  {
   "cell_type": "code",
   "execution_count": 99,
   "metadata": {},
   "outputs": [
    {
     "name": "stdout",
     "output_type": "stream",
     "text": [
      "15.6 ms ± 57.5 µs per loop (mean ± std. dev. of 7 runs, 100 loops each)\n"
     ]
    }
   ],
   "source": [
    "%timeit gp_model.fit(xtrain, ytrain)"
   ]
  },
  {
   "cell_type": "markdown",
   "metadata": {},
   "source": [
    "#### Derivatives"
   ]
  },
  {
   "cell_type": "code",
   "execution_count": 102,
   "metadata": {},
   "outputs": [],
   "source": [
    "mu_der, var_der = gp_model.mu_grad(xtest, return_std=True)\n",
    "mu_der2, var_der2 = gp_model.mu_grad(xtest, nder=2, return_std=True)\n"
   ]
  },
  {
   "cell_type": "code",
   "execution_count": 103,
   "metadata": {},
   "outputs": [
    {
     "data": {
      "image/png": "[encoded data removed]",
      "text/plain": [
       "<Figure size 720x504 with 1 Axes>"
      ]
     },
     "metadata": {},
     "output_type": "display_data"
    }
   ],
   "source": [
    "fig, ax = plt.subplots(figsize=(10, 7))\n",
    "\n",
    "# ax.scatter(xtrain, ytrain)\n",
    "ax.scatter(xtrain, ytrain, color='r', label='Training Points')\n",
    "ax.plot(xtest, y_pred, color='k', label='My Predictions')\n",
    "ax.plot(xtest, mu_der, color='b', linestyle=\"--\", label='1st Derivative')\n",
    "ax.plot(xtest, mu_der2, color='g', linestyle=\"--\", label='2nd Derivative')\n",
    "\n",
    "ax.legend()\n",
    "\n",
    "plt.show()"
   ]
  },
  {
   "cell_type": "code",
   "execution_count": 104,
   "metadata": {},
   "outputs": [
    {
     "data": {
      "image/png": "[encoded data removed]",
      "text/plain": [
       "<Figure size 720x504 with 1 Axes>"
      ]
     },
     "metadata": {},
     "output_type": "display_data"
    }
   ],
   "source": [
    "fig, ax = plt.subplots(figsize=(10, 7))\n",
    "\n",
    "# ax.scatter(xtrain, ytrain)\n",
    "# ax.scatter(xtrain, ytrain, color='r', label='Training Points')\n",
    "ax.plot(xtest, y_var, color='k', label='My Predictions')\n",
    "ax.plot(xtest, var_der, color='b', linestyle=\"--\", label='1st Derivative')\n",
    "ax.plot(xtest, var_der2, color='g', linestyle=\"--\", label='2nd Derivative')\n",
    "\n",
    "ax.legend()\n",
    "\n",
    "plt.show()"
   ]
  },
  {
   "cell_type": "markdown",
   "metadata": {},
   "source": [
    "# EXAMPLE\n"
   ]
  },
  {
   "cell_type": "code",
   "execution_count": 382,
   "metadata": {},
   "outputs": [],
   "source": [
    "import autograd.numpy as np\n",
    "from autograd import value_and_grad\n",
    "from scipy.optimize import minimize\n",
    "from scipy.stats import norm\n",
    "\n",
    "# A minimal Gaussian process class\n",
    "class GP:\n",
    "    # Initialize the class\n",
    "    def __init__(self, jitter=1e-8):        \n",
    "\n",
    "        \n",
    "        \n",
    "               \n",
    "        self.jitter = 1e-8\n",
    "        \n",
    "\n",
    "    def fit(self, X, y):\n",
    "        self.D = X.shape[1]\n",
    "        self.X = X\n",
    "        self.y = y\n",
    "        self.hyp = self.init_params()\n",
    "        self.likelihood(self.hyp)\n",
    "        print(\"Total number of parameters: %d\" % (self.hyp.shape[0]))\n",
    "        # Minimizes the negative log-marginal likelihood\n",
    "        result = minimize(value_and_grad(self.likelihood), self.hyp, jac=True, \n",
    "                          method='L-BFGS-B', callback=self.callback)\n",
    "        self.hyp = result.x\n",
    "        \n",
    "        return self\n",
    "    # Initialize hyper-parameters        \n",
    "    def init_params(self):\n",
    "        hyp = np.log(np.ones(self.D+1))\n",
    "        self.idx_theta = np.arange(hyp.shape[0])\n",
    "        logsigma_n = np.array([-4.0])\n",
    "        hyp = np.concatenate([hyp, logsigma_n])\n",
    "        return hyp\n",
    "    \n",
    "    # A simple vectorized rbf kernel\n",
    "    def kernel(self,x,xp,hyp):\n",
    "        output_scale = np.exp(hyp[0])\n",
    "        lengthscales = np.exp(hyp[1:])\n",
    "        diffs = np.expand_dims(x /lengthscales, 1) - \\\n",
    "                np.expand_dims(xp/lengthscales, 0)\n",
    "        return output_scale * np.exp(-0.5 * np.sum(diffs**2, axis=2))\n",
    "        \n",
    "    # Computes the negative log-marginal likelihood\n",
    "    def likelihood(self, hyp):\n",
    "        X = self.X\n",
    "        y = self.y\n",
    "\n",
    "        N = y.shape[0]\n",
    "        \n",
    "        logsigma_n = hyp[-1]\n",
    "        sigma_n = np.exp(logsigma_n)\n",
    "        \n",
    "        theta = hyp[self.idx_theta]\n",
    "        \n",
    "        K = self.kernel(X, X, theta) + np.eye(N)*sigma_n\n",
    "        L = np.linalg.cholesky(K + np.eye(N)*self.jitter) \n",
    "        self.L = L\n",
    "        \n",
    "        alpha = np.linalg.solve(np.transpose(L), np.linalg.solve(L,y))    \n",
    "        NLML = 0.5*np.matmul(np.transpose(y),alpha) + \\\n",
    "               np.sum(np.log(np.diag(L))) + 0.5*np.log(2.*np.pi)*N  \n",
    "        return NLML[0,0]\n",
    "\n",
    "\n",
    "        \n",
    "    # Return posterior mean and variance at a set of test points\n",
    "    def predict(self,X_star):\n",
    "        X = self.X\n",
    "        y = self.y\n",
    "       \n",
    "        L = self.L\n",
    "                \n",
    "        theta = self.hyp[self.idx_theta]\n",
    "        \n",
    "        psi = self.kernel(X_star, X, theta)\n",
    "\n",
    "        alpha = np.linalg.solve(np.transpose(L), np.linalg.solve(L,y))\n",
    "        pred_u_star = np.matmul(psi,alpha)\n",
    "        print(alpha[0])\n",
    "\n",
    "        beta = np.linalg.solve(np.transpose(L), np.linalg.solve(L,psi.T))\n",
    "        var_u_star = self.kernel(X_star, X_star, theta) - np.matmul(psi,beta)\n",
    "        \n",
    "        return pred_u_star, var_u_star\n",
    "    \n",
    "    def ExpectedImprovement(self, X_star):\n",
    "        X = self.X\n",
    "        y = self.y\n",
    "       \n",
    "        L = self.L\n",
    "                \n",
    "        theta = self.hyp[self.idx_theta]\n",
    "        \n",
    "        psi = self.kernel(X_star, X, theta)\n",
    "\n",
    "        alpha = np.linalg.solve(np.transpose(L), np.linalg.solve(L,y))\n",
    "        pred_u_star = np.matmul(psi,alpha)\n",
    "\n",
    "        beta = np.linalg.solve(np.transpose(L), np.linalg.solve(L,psi.T))\n",
    "        var_u_star = self.kernel(X_star, X_star, theta) - np.matmul(psi,beta)\n",
    "        var_u_star = np.abs(np.diag(var_u_star))[:,None]\n",
    "        \n",
    "        # Expected Improvement\n",
    "        best = np.min(y)\n",
    "        Z = (best - pred_u_star)/var_u_star\n",
    "        EI_acq = (best - pred_u_star)*norm.cdf(Z) + var_u_star*norm.pdf(Z)\n",
    "\n",
    "        return EI_acq\n",
    "    \n",
    "    def draw_prior_samples(self, X_star, N_samples = 1):\n",
    "        N = X_star.shape[0]        \n",
    "        theta = self.hyp[self.idx_theta]        \n",
    "        K = self.kernel(X_star, X_star, theta)        \n",
    "        return np.random.multivariate_normal(np.zeros(N), K, N_samples).T\n",
    "                                             \n",
    "    def draw_posterior_samples(self, X_star, N_samples = 1):\n",
    "        X = self.X\n",
    "        y = self.y\n",
    "       \n",
    "        L = self.L\n",
    "                \n",
    "        theta = self.hyp[self.idx_theta]\n",
    "        \n",
    "        psi = self.kernel(X_star, X, theta)\n",
    "\n",
    "        alpha = np.linalg.solve(np.transpose(L), np.linalg.solve(L,y))\n",
    "        pred_u_star = np.matmul(psi,alpha)\n",
    "\n",
    "        beta = np.linalg.solve(np.transpose(L), np.linalg.solve(L,psi.T))\n",
    "        var_u_star = self.kernel(X_star, X_star, theta) - np.matmul(psi,beta)\n",
    "        \n",
    "        return np.random.multivariate_normal(pred_u_star.flatten(), \n",
    "                                             var_u_star, N_samples).T\n",
    "        \n",
    "    #  Prints the negative log-marginal likelihood at each training step         \n",
    "    def callback(self,params):\n",
    "        print(\"Log likelihood {}\".format(self.likelihood(params)))\n",
    "        "
   ]
  },
  {
   "cell_type": "code",
   "execution_count": 383,
   "metadata": {},
   "outputs": [
    {
     "name": "stdout",
     "output_type": "stream",
     "text": [
      "Total number of parameters: 3\n",
      "Log likelihood 3.026004882322818\n",
      "Log likelihood 2.412313785888095\n",
      "Log likelihood 1.8326540764087227\n",
      "Log likelihood 0.7837723350557333\n",
      "Log likelihood 0.7187966448203547\n",
      "Log likelihood 0.6997681626999395\n",
      "Log likelihood 0.6876049693211925\n",
      "Log likelihood 0.6874291307684643\n",
      "Log likelihood 0.6874125619818763\n",
      "Log likelihood 0.6874125474227206\n",
      "Log likelihood 0.687412547145783\n",
      "[0.36602546]\n"
     ]
    }
   ],
   "source": [
    "gp_model = GP()\n",
    "gp_model.fit(xtrain, ytrain);\n",
    "ypred, var = gp_model.predict(xtest)\n"
   ]
  },
  {
   "cell_type": "code",
   "execution_count": 373,
   "metadata": {},
   "outputs": [
    {
     "data": {
      "image/png": "[encoded data removed]",
      "text/plain": [
       "<Figure size 432x288 with 1 Axes>"
      ]
     },
     "metadata": {},
     "output_type": "display_data"
    }
   ],
   "source": [
    "fig, ax = plt.subplots()\n",
    "\n",
    "ax.scatter(xtrain, ytrain, label='Training Data')\n",
    "ax.plot(xtest, ypred, label='Predictions')\n",
    "\n",
    "ax.legend()\n",
    "plt.show()"
   ]
  },
  {
   "cell_type": "markdown",
   "metadata": {},
   "source": [
    "# WITH RESTARTS"
   ]
  },
  {
   "cell_type": "code",
   "execution_count": 189,
   "metadata": {},
   "outputs": [],
   "source": [
    "from scipy.optimize import minimize, fmin_l_bfgs_b\n"
   ]
  },
  {
   "cell_type": "code",
   "execution_count": 192,
   "metadata": {},
   "outputs": [],
   "source": [
    "class GaussianProcess(BaseEstimator, RegressorMixin):\n",
    "    def __init__(self, jitter=1e-9, random_state=None, mean=0.0,\n",
    "                 signal_variance=1.0, length_scale=1.0,\n",
    "                 noise_likelihood=0.1, n_restarts_optimizer=0):\n",
    "        self.jitter = jitter\n",
    "        self.random_state = random_state\n",
    "        self.mean = mean\n",
    "        self.signal_variance = signal_variance\n",
    "        self.length_scale = length_scale\n",
    "        self.noise_likelihood = noise_likelihood\n",
    "        self.n_restarts_optimizer = n_restarts_optimizer\n",
    "\n",
    "    def fit(self, X, y):\n",
    "\n",
    "        self.X_train_ = X\n",
    "        self.y_train_ = y\n",
    "\n",
    "        # initial hyper-parameters\n",
    "        theta0 = np.array([self.mean,\n",
    "                           self.signal_variance,\n",
    "                           self.noise_likelihood,\n",
    "                           self.length_scale])\n",
    "        bounds = ((1e-3, 1e3), (1e-10, 1e10), (1e-10, 1e10), (1e-10, 1e10))\n",
    "        # define objective\n",
    "        objective = lambda theta: -self.log_marginal_likelihood(theta)\n",
    "\n",
    "        # minimize the objective function\n",
    "        optimza = [self._constrained_optimization(self.obj_function, theta0, bounds)]\n",
    "        # perform additional runs\n",
    "        if self.n_restarts_optimizer:\n",
    "            pass\n",
    "        # extract best params\n",
    "        print(best_params)\n",
    "\n",
    "        return self\n",
    "\n",
    "    def predict(self, X, return_std=False):\n",
    "        mean, signal_variance, noise_likelihood, length_scale = \\\n",
    "            self._get_kernel_params(self, self.theta)\n",
    "\n",
    "        # Train test kernel\n",
    "        K_train = self.rbf_covariance(X, signal_variance=signal_variance,\n",
    "                                      length_scale=length_scale)\n",
    "        K_trans = self.rbf_covariance(self.X_train_, X,\n",
    "                                      signal_variance=signal_variance,\n",
    "                                      length_scale=length_scale)\n",
    "\n",
    "        pred_mean = mean + np.dot(solve(K_train, K_trans).T, self.y_train_)\n",
    "\n",
    "        if not return_std:\n",
    "            return pred_mean\n",
    "        else:\n",
    "            return None\n",
    "\n",
    "    def log_marginal_likelihood(self, theta):\n",
    "        #         print(theta)\n",
    "        #         print(self._get_kernel_params())\n",
    "        # get kernel parameters\n",
    "        mean, signal_variance, noise_likelihood, length_scale = \\\n",
    "            self._get_kernel_params(theta)\n",
    "\n",
    "        n_samples = self.X_train_.shape[0]\n",
    "        # train kernel\n",
    "        K = self.rbf_covariance(self.X_train_, length_scale=length_scale,\n",
    "                                signal_variance=signal_variance)\n",
    "        K += noise_likelihood * np.eye(n_samples)\n",
    "\n",
    "        prior_mean = mean * np.ones(n_samples)\n",
    "        lml = mvn.logpdf(self.y_train_.squeeze(), prior_mean, K)\n",
    "        return lml\n",
    "\n",
    "    def obj_function(self, theta, eval_gradient=True):\n",
    "        if eval_gradient:\n",
    "            nll = lambda theta: self.log_marginal_likelihood(theta)\n",
    "            auto_grad = autograd.value_and_grad(self.log_marginal_likelihood)\n",
    "            lml, grad = auto_grad(theta)\n",
    "            print(lml,grad)\n",
    "            print('here')\n",
    "\n",
    "            return -lml, -grad\n",
    "        else:\n",
    "            nll = lambda theta: self.log_marginal_likelihood(theta)\n",
    "            auto_grad = autograd.grad(self.log_marginal_likelihood)\n",
    "            return auto_grad(theta)\n",
    "\n",
    "    def _constrained_optimization(self, obj_func, initial_theta, bounds):\n",
    "\n",
    "        theta_opt, func_min, convergence_dict = \\\n",
    "            fmin_l_bfgs_b(obj_func, initial_theta, bounds)\n",
    "        if convergence_dict[\"warnflag\"] != 0:\n",
    "            warnings.warn(\"fmin_bfgs_b terminated abnormaly with the \"\n",
    "                          \"state:{s}\".format(convergence_dict))\n",
    "\n",
    "        return theta_opt, func_min\n",
    "\n",
    "    def _get_kernel_params(self, theta):\n",
    "\n",
    "        mean = theta[0]\n",
    "        signal_variance = theta[1]\n",
    "        noise_likelihood = np.exp(theta[2]) + self.jitter\n",
    "        length_scale = theta[3:]\n",
    "        return mean, signal_variance, noise_likelihood, length_scale\n",
    "\n",
    "    @staticmethod\n",
    "    def rbf_covariance(X, y=None, signal_variance=1.0, length_scale=1.0):\n",
    "        if y is None:\n",
    "            y = X\n",
    "        D = np.expand_dims(X / length_scale, 1) - np.expand_dims(y / length_scale, 0)\n",
    "        return signal_variance * np.exp(-0.5 * np.sum(D ** 2, axis=2))"
   ]
  },
  {
   "cell_type": "code",
   "execution_count": 193,
   "metadata": {},
   "outputs": [
    {
     "name": "stdout",
     "output_type": "stream",
     "text": [
      "Autograd ArrayBox with value -27.124924441192245\n",
      "-27.124924441192245 [-1.10529583  0.18297189  6.40788284 -1.5952848 ]\n",
      "here\n"
     ]
    },
    {
     "ename": "TypeError",
     "evalue": "'tuple' object is not callable",
     "output_type": "error",
     "traceback": [
      "\u001b[0;31m---------------------------------------------------------------------------\u001b[0m",
      "\u001b[0;31mTypeError\u001b[0m                                 Traceback (most recent call last)",
      "\u001b[0;32m<ipython-input-193-de505174f712>\u001b[0m in \u001b[0;36m<module>\u001b[0;34m()\u001b[0m\n\u001b[1;32m      1\u001b[0m \u001b[0mgp_model\u001b[0m \u001b[0;34m=\u001b[0m \u001b[0mGaussianProcess\u001b[0m\u001b[0;34m(\u001b[0m\u001b[0;34m)\u001b[0m\u001b[0;34m\u001b[0m\u001b[0m\n\u001b[0;32m----> 2\u001b[0;31m \u001b[0mgp_model\u001b[0m\u001b[0;34m.\u001b[0m\u001b[0mfit\u001b[0m\u001b[0;34m(\u001b[0m\u001b[0mxtrain\u001b[0m\u001b[0;34m,\u001b[0m \u001b[0mytrain\u001b[0m\u001b[0;34m)\u001b[0m\u001b[0;34m;\u001b[0m\u001b[0;34m\u001b[0m\u001b[0m\n\u001b[0m",
      "\u001b[0;32m<ipython-input-192-8e7ef241b2a0>\u001b[0m in \u001b[0;36mfit\u001b[0;34m(self, X, y)\u001b[0m\n\u001b[1;32m     26\u001b[0m \u001b[0;34m\u001b[0m\u001b[0m\n\u001b[1;32m     27\u001b[0m         \u001b[0;31m# minimize the objective function\u001b[0m\u001b[0;34m\u001b[0m\u001b[0;34m\u001b[0m\u001b[0m\n\u001b[0;32m---> 28\u001b[0;31m         \u001b[0moptimza\u001b[0m \u001b[0;34m=\u001b[0m \u001b[0;34m[\u001b[0m\u001b[0mself\u001b[0m\u001b[0;34m.\u001b[0m\u001b[0m_constrained_optimization\u001b[0m\u001b[0;34m(\u001b[0m\u001b[0mself\u001b[0m\u001b[0;34m.\u001b[0m\u001b[0mobj_function\u001b[0m\u001b[0;34m,\u001b[0m \u001b[0mtheta0\u001b[0m\u001b[0;34m,\u001b[0m \u001b[0mbounds\u001b[0m\u001b[0;34m)\u001b[0m\u001b[0;34m]\u001b[0m\u001b[0;34m\u001b[0m\u001b[0m\n\u001b[0m\u001b[1;32m     29\u001b[0m         \u001b[0;31m# perform additional runs\u001b[0m\u001b[0;34m\u001b[0m\u001b[0;34m\u001b[0m\u001b[0m\n\u001b[1;32m     30\u001b[0m         \u001b[0;32mif\u001b[0m \u001b[0mself\u001b[0m\u001b[0;34m.\u001b[0m\u001b[0mn_restarts_optimizer\u001b[0m\u001b[0;34m:\u001b[0m\u001b[0;34m\u001b[0m\u001b[0m\n",
      "\u001b[0;32m<ipython-input-192-8e7ef241b2a0>\u001b[0m in \u001b[0;36m_constrained_optimization\u001b[0;34m(self, obj_func, initial_theta, bounds)\u001b[0m\n\u001b[1;32m     85\u001b[0m     \u001b[0;32mdef\u001b[0m \u001b[0m_constrained_optimization\u001b[0m\u001b[0;34m(\u001b[0m\u001b[0mself\u001b[0m\u001b[0;34m,\u001b[0m \u001b[0mobj_func\u001b[0m\u001b[0;34m,\u001b[0m \u001b[0minitial_theta\u001b[0m\u001b[0;34m,\u001b[0m \u001b[0mbounds\u001b[0m\u001b[0;34m)\u001b[0m\u001b[0;34m:\u001b[0m\u001b[0;34m\u001b[0m\u001b[0m\n\u001b[1;32m     86\u001b[0m \u001b[0;34m\u001b[0m\u001b[0m\n\u001b[0;32m---> 87\u001b[0;31m         \u001b[0mtheta_opt\u001b[0m\u001b[0;34m,\u001b[0m \u001b[0mfunc_min\u001b[0m\u001b[0;34m,\u001b[0m \u001b[0mconvergence_dict\u001b[0m \u001b[0;34m=\u001b[0m             \u001b[0mfmin_l_bfgs_b\u001b[0m\u001b[0;34m(\u001b[0m\u001b[0mobj_func\u001b[0m\u001b[0;34m,\u001b[0m \u001b[0minitial_theta\u001b[0m\u001b[0;34m,\u001b[0m \u001b[0mbounds\u001b[0m\u001b[0;34m)\u001b[0m\u001b[0;34m\u001b[0m\u001b[0m\n\u001b[0m\u001b[1;32m     88\u001b[0m         \u001b[0;32mif\u001b[0m \u001b[0mconvergence_dict\u001b[0m\u001b[0;34m[\u001b[0m\u001b[0;34m\"warnflag\"\u001b[0m\u001b[0;34m]\u001b[0m \u001b[0;34m!=\u001b[0m \u001b[0;36m0\u001b[0m\u001b[0;34m:\u001b[0m\u001b[0;34m\u001b[0m\u001b[0m\n\u001b[1;32m     89\u001b[0m             warnings.warn(\"fmin_bfgs_b terminated abnormaly with the \"\n",
      "\u001b[0;32m~/anaconda3/envs/gp_autograd/lib/python3.6/site-packages/scipy/optimize/lbfgsb.py\u001b[0m in \u001b[0;36mfmin_l_bfgs_b\u001b[0;34m(func, x0, fprime, args, approx_grad, bounds, m, factr, pgtol, epsilon, iprint, maxfun, maxiter, disp, callback, maxls)\u001b[0m\n\u001b[1;32m    197\u001b[0m \u001b[0;34m\u001b[0m\u001b[0m\n\u001b[1;32m    198\u001b[0m     res = _minimize_lbfgsb(fun, x0, args=args, jac=jac, bounds=bounds,\n\u001b[0;32m--> 199\u001b[0;31m                            **opts)\n\u001b[0m\u001b[1;32m    200\u001b[0m     d = {'grad': res['jac'],\n\u001b[1;32m    201\u001b[0m          \u001b[0;34m'task'\u001b[0m\u001b[0;34m:\u001b[0m \u001b[0mres\u001b[0m\u001b[0;34m[\u001b[0m\u001b[0;34m'message'\u001b[0m\u001b[0;34m]\u001b[0m\u001b[0;34m,\u001b[0m\u001b[0;34m\u001b[0m\u001b[0m\n",
      "\u001b[0;32m~/anaconda3/envs/gp_autograd/lib/python3.6/site-packages/scipy/optimize/lbfgsb.py\u001b[0m in \u001b[0;36m_minimize_lbfgsb\u001b[0;34m(fun, x0, args, jac, bounds, disp, maxcor, ftol, gtol, eps, maxfun, maxiter, iprint, callback, maxls, **unknown_options)\u001b[0m\n\u001b[1;32m    333\u001b[0m             \u001b[0;31m# until the completion of the current minimization iteration.\u001b[0m\u001b[0;34m\u001b[0m\u001b[0;34m\u001b[0m\u001b[0m\n\u001b[1;32m    334\u001b[0m             \u001b[0;31m# Overwrite f and g:\u001b[0m\u001b[0;34m\u001b[0m\u001b[0;34m\u001b[0m\u001b[0m\n\u001b[0;32m--> 335\u001b[0;31m             \u001b[0mf\u001b[0m\u001b[0;34m,\u001b[0m \u001b[0mg\u001b[0m \u001b[0;34m=\u001b[0m \u001b[0mfunc_and_grad\u001b[0m\u001b[0;34m(\u001b[0m\u001b[0mx\u001b[0m\u001b[0;34m)\u001b[0m\u001b[0;34m\u001b[0m\u001b[0m\n\u001b[0m\u001b[1;32m    336\u001b[0m         \u001b[0;32melif\u001b[0m \u001b[0mtask_str\u001b[0m\u001b[0;34m.\u001b[0m\u001b[0mstartswith\u001b[0m\u001b[0;34m(\u001b[0m\u001b[0;34mb'NEW_X'\u001b[0m\u001b[0;34m)\u001b[0m\u001b[0;34m:\u001b[0m\u001b[0;34m\u001b[0m\u001b[0m\n\u001b[1;32m    337\u001b[0m             \u001b[0;31m# new iteration\u001b[0m\u001b[0;34m\u001b[0m\u001b[0;34m\u001b[0m\u001b[0m\n",
      "\u001b[0;32m~/anaconda3/envs/gp_autograd/lib/python3.6/site-packages/scipy/optimize/lbfgsb.py\u001b[0m in \u001b[0;36mfunc_and_grad\u001b[0;34m(x)\u001b[0m\n\u001b[1;32m    284\u001b[0m         \u001b[0;32mdef\u001b[0m \u001b[0mfunc_and_grad\u001b[0m\u001b[0;34m(\u001b[0m\u001b[0mx\u001b[0m\u001b[0;34m)\u001b[0m\u001b[0;34m:\u001b[0m\u001b[0;34m\u001b[0m\u001b[0m\n\u001b[1;32m    285\u001b[0m             \u001b[0mf\u001b[0m \u001b[0;34m=\u001b[0m \u001b[0mfun\u001b[0m\u001b[0;34m(\u001b[0m\u001b[0mx\u001b[0m\u001b[0;34m,\u001b[0m \u001b[0;34m*\u001b[0m\u001b[0margs\u001b[0m\u001b[0;34m)\u001b[0m\u001b[0;34m\u001b[0m\u001b[0m\n\u001b[0;32m--> 286\u001b[0;31m             \u001b[0mg\u001b[0m \u001b[0;34m=\u001b[0m \u001b[0mjac\u001b[0m\u001b[0;34m(\u001b[0m\u001b[0mx\u001b[0m\u001b[0;34m,\u001b[0m \u001b[0;34m*\u001b[0m\u001b[0margs\u001b[0m\u001b[0;34m)\u001b[0m\u001b[0;34m\u001b[0m\u001b[0m\n\u001b[0m\u001b[1;32m    287\u001b[0m             \u001b[0;32mreturn\u001b[0m \u001b[0mf\u001b[0m\u001b[0;34m,\u001b[0m \u001b[0mg\u001b[0m\u001b[0;34m\u001b[0m\u001b[0m\n\u001b[1;32m    288\u001b[0m \u001b[0;34m\u001b[0m\u001b[0m\n",
      "\u001b[0;31mTypeError\u001b[0m: 'tuple' object is not callable"
     ]
    }
   ],
   "source": [
    "gp_model = GaussianProcess()\n",
    "gp_model.fit(xtrain, ytrain);"
   ]
  },
  {
   "cell_type": "code",
   "execution_count": null,
   "metadata": {},
   "outputs": [],
   "source": []
  },
  {
   "cell_type": "code",
   "execution_count": null,
   "metadata": {},
   "outputs": [],
   "source": []
  },
  {
   "cell_type": "code",
   "execution_count": null,
   "metadata": {},
   "outputs": [],
   "source": []
  },
  {
   "cell_type": "code",
   "execution_count": 204,
   "metadata": {},
   "outputs": [],
   "source": [
    "import autograd.numpy.random as npr\n",
    "import autograd.numpy as np\n",
    "import autograd.numpy.random as npr\n",
    "from autograd.numpy.linalg import solve\n",
    "import autograd.scipy.stats.multivariate_normal as mvn\n",
    "from autograd import value_and_grad\n",
    "from scipy.optimize import minimize\n",
    "def make_gp_funs(cov_func, num_cov_params):\n",
    "    \"\"\"Functions that perform Gaussian process regression.\n",
    "       cov_func has signature (cov_params, x, x')\"\"\"\n",
    "\n",
    "    def unpack_kernel_params(params):\n",
    "        mean        = params[0]\n",
    "        cov_params  = params[2:]\n",
    "        noise_scale = np.exp(params[1]) + 0.0001\n",
    "        return mean, cov_params, noise_scale\n",
    "\n",
    "    def predict(params, x, y, xstar):\n",
    "        \"\"\"Returns the predictive mean and covariance at locations xstar,\n",
    "           of the latent function value f (without observation noise).\"\"\"\n",
    "        mean, cov_params, noise_scale = unpack_kernel_params(params)\n",
    "        cov_f_f = cov_func(cov_params, xstar, xstar)\n",
    "        cov_y_f = cov_func(cov_params, x, xstar)\n",
    "        cov_y_y = cov_func(cov_params, x, x) + noise_scale * np.eye(len(y))\n",
    "        pred_mean = mean +   np.dot(solve(cov_y_y, cov_y_f).T, y - mean)\n",
    "        pred_cov = cov_f_f - np.dot(solve(cov_y_y, cov_y_f).T, cov_y_f)\n",
    "        return pred_mean, pred_cov\n",
    "\n",
    "    def log_marginal_likelihood(params, x, y):\n",
    "        mean, cov_params, noise_scale = unpack_kernel_params(params)\n",
    "        cov_y_y = cov_func(cov_params, x, x) + noise_scale * np.eye(len(y))\n",
    "        prior_mean = mean * np.ones(len(y))\n",
    "        return mvn.logpdf(y, prior_mean, cov_y_y)\n",
    "\n",
    "    return num_cov_params + 2, predict, log_marginal_likelihood\n",
    "\n",
    "# Define an example covariance function.\n",
    "def rbf_covariance(kernel_params, x, xp):\n",
    "    output_scale = np.exp(kernel_params[0])\n",
    "    lengthscales = np.exp(kernel_params[1:])\n",
    "    diffs = np.expand_dims(x /lengthscales, 1)\\\n",
    "          - np.expand_dims(xp/lengthscales, 0)\n",
    "    return output_scale * np.exp(-0.5 * np.sum(diffs**2, axis=2))\n",
    "\n",
    "\n",
    "def build_toy_dataset(D=1, n_data=20, noise_std=0.1):\n",
    "    rs = npr.RandomState(0)\n",
    "    inputs  = np.concatenate([np.linspace(0, 3, num=n_data/2),\n",
    "                              np.linspace(6, 8, num=n_data/2)])\n",
    "    targets = (np.cos(inputs) + rs.randn(n_data) * noise_std) / 2.0\n",
    "    inputs = (inputs - 4.0) / 2.0\n",
    "    inputs  = inputs.reshape((len(inputs), D))\n",
    "    return inputs, targets\n",
    "\n"
   ]
  },
  {
   "cell_type": "code",
   "execution_count": 205,
   "metadata": {},
   "outputs": [
    {
     "name": "stdout",
     "output_type": "stream",
     "text": [
      "Optimizing covariance parameters...\n",
      "[0.17640523 0.04001572 0.0978738  0.22408932]\n",
      "[0.17640523 0.04001572 0.0978738  0.22408932]\n"
     ]
    },
    {
     "name": "stderr",
     "output_type": "stream",
     "text": [
      "/home/emmanuel/anaconda3/envs/gp_autograd/lib/python3.6/site-packages/ipykernel_launcher.py:49: UserWarning: terminated abnormally... {'grad': array([-0.05437591, -8.21081846, -1.13730548,  0.18202956]), 'task': b'ABNORMAL_TERMINATION_IN_LNSRCH', 'funcalls': 21, 'nit': 0, 'warnflag': 2}\n"
     ]
    }
   ],
   "source": [
    "D = 1\n",
    "\n",
    "# Build model and objective function.\n",
    "num_params, predict, log_marginal_likelihood = \\\n",
    "    make_gp_funs(rbf_covariance, num_cov_params=D + 1)\n",
    "\n",
    "X, y = build_toy_dataset(D=D)\n",
    "objective = lambda params: -log_marginal_likelihood(params, X, y)\n",
    "\n",
    "# # Set up figure.\n",
    "# fig = plt.figure(figsize=(12,8), facecolor='white')\n",
    "# ax = fig.add_subplot(111, frameon=False)\n",
    "# plt.show(block=False)\n",
    "\n",
    "# def callback(params):\n",
    "#     print(\"Log likelihood {}\".format(-objective(params)))\n",
    "#     plt.cla()\n",
    "\n",
    "#     # Show posterior marginals.\n",
    "#     plot_xs = np.reshape(np.linspace(-7, 7, 300), (300,1))\n",
    "#     pred_mean, pred_cov = predict(params, X, y, plot_xs)\n",
    "#     marg_std = np.sqrt(np.diag(pred_cov))\n",
    "#     ax.plot(plot_xs, pred_mean, 'b')\n",
    "#     ax.fill(np.concatenate([plot_xs, plot_xs[::-1]]),\n",
    "#             np.concatenate([pred_mean - 1.96 * marg_std,\n",
    "#                            (pred_mean + 1.96 * marg_std)[::-1]]),\n",
    "#             alpha=.15, fc='Blue', ec='None')\n",
    "\n",
    "#     # Show samples from posterior.\n",
    "#     rs = npr.RandomState(0)\n",
    "#     sampled_funcs = rs.multivariate_normal(pred_mean, pred_cov, size=10)\n",
    "#     ax.plot(plot_xs, sampled_funcs.T)\n",
    "\n",
    "#     ax.plot(X, y, 'kx')\n",
    "#     ax.set_ylim([-1.5, 1.5])\n",
    "#     ax.set_xticks([])\n",
    "#     ax.set_yticks([])\n",
    "#     plt.draw()\n",
    "#     plt.pause(1.0/60.0)\n",
    "\n",
    "# Initialize covariance parameters\n",
    "rs = npr.RandomState(0)\n",
    "init_params = 0.1 * rs.randn(num_params)\n",
    "\n",
    "print(\"Optimizing covariance parameters...\")\n",
    "print(init_params)\n",
    "bounds = ((1e-10, 1e10), (1e-10, 1e10), (1e-10, 1e10), (1e-10, 1e10))\n",
    "theta_opt, func_min, convergence_dict = fmin_l_bfgs_b(value_and_grad(objective), init_params, bounds=bounds)\n",
    "if convergence_dict[\"warnflag\"] != 0:\n",
    "    warnings.warn(\"terminated abnormally... {}\".format(convergence_dict))\n",
    "    print(theta_opt)\n",
    "# cov_params = minimize(value_and_grad(objective), init_params, jac=True,\n",
    "#                       method='BFGS', callback=callback)\n",
    "# print(cov_params)\n",
    "# plt.pause(10.0)"
   ]
  },
  {
   "cell_type": "code",
   "execution_count": null,
   "metadata": {},
   "outputs": [],
   "source": []
  },
  {
   "cell_type": "markdown",
   "metadata": {},
   "source": [
    "## Autograd"
   ]
  },
  {
   "cell_type": "code",
   "execution_count": 16,
   "metadata": {},
   "outputs": [],
   "source": [
    "\n",
    "from scipy.linalg import cholesky, cho_solve, solve_triangular\n",
    "\n",
    "class GPAutoGrad(object):\n",
    "    \"\"\"GPAutoGrad implements a GP Regression algorithm which utilizes\n",
    "    the autogradient to find the derivative of the mean function\n",
    "    and the derivative of the predictive variance function.\n",
    "\n",
    "    It inputs a trained model from the scikit-learn library using the\n",
    "    kernel function: C() * RBF() + WhiteKernel()\n",
    "    \"\"\"\n",
    "\n",
    "    def __init__(self, gp_model):\n",
    "        self.gp_model = gp_model\n",
    "        kernel_model = self.gp_model.kernel_\n",
    "        self.signal_variance = kernel_model.get_params()['k1__k1__constant_value']\n",
    "        self.length_scale = kernel_model.get_params()['k1__k2__length_scale']\n",
    "        self.likelihood_variance = kernel_model.get_params()['k2__noise_level']\n",
    "        self.weights = gp_model.alpha_\n",
    "        self.x_train = gp_model.X_train_\n",
    "        self.L = gp_model.L_\n",
    "        print(self.L.shape)\n",
    "    def fit(self):\n",
    "        return self\n",
    "\n",
    "    def predict(self, X, return_std=False):\n",
    "\n",
    "        # kernel matrix\n",
    "        K = self.rbf_covariance(X, y=self.x_train,\n",
    "                                length_scale=self.length_scale,\n",
    "                                scale=self.signal_variance)\n",
    "        mean = np.dot(K, self.weights)\n",
    "        if not return_std:\n",
    "            return mean\n",
    "        else:\n",
    "            return mean, self.variance(X, K_trans=K)\n",
    "\n",
    "    def variance(self, X, K_trans=None):\n",
    "\n",
    "        L_inv = solve_triangular(self.L.T, np.eye(self.L.shape[0]))\n",
    "        K_inv = np.dot(L_inv, L_inv.T)\n",
    "        print(L_inv.shape, K_inv.shape)\n",
    "        if K_trans is None:\n",
    "            K_trans = self.rbf_covariance(X, y=self.x_train,\n",
    "                                          length_scale=self.length_scale,\n",
    "                                          scale=self.signal_variance)\n",
    "\n",
    "        # compute the variance\n",
    "        y_var = np.diag(self.rbf_covariance(X, length_scale=self.length_scale,\n",
    "                                            scale=self.signal_variance)) \\\n",
    "                + self.likelihood_variance\n",
    "        print(y_var.shape, K_trans.shape, K_inv.shape)\n",
    "        y_var -= np.einsum(\"ij,ij->i\", np.dot(K_trans, K_inv), K_trans)\n",
    "\n",
    "        return y_var\n",
    "\n",
    "    def mu_grad(self, X, nder=1, return_std=False):\n",
    "\n",
    "        # Construct the autogradient function for the\n",
    "        # predictive mean\n",
    "        mu = lambda x: self.predict(x)\n",
    "\n",
    "        if nder == 1:\n",
    "            grad_mu = egrad(mu)\n",
    "\n",
    "            if not return_std:\n",
    "                return grad_mu(X)\n",
    "            else:\n",
    "                return grad_mu(X), self.sigma_grad(X, nder=1)\n",
    "        else:\n",
    "            grad_mu = egrad(egrad(mu))\n",
    "            if not return_std:\n",
    "                return grad_mu(X)\n",
    "            else:\n",
    "                return grad_mu(X), self.sigma_grad(X, nder=2)\n",
    "\n",
    "    def sigma_grad(self, X, nder=1):\n",
    "\n",
    "        # Construct the autogradient function for the\n",
    "        # predictive variance\n",
    "        sigma = lambda x: self.variance(x)\n",
    "\n",
    "        if nder == 1:\n",
    "            grad_var = egrad(sigma)\n",
    "            return grad_var(X)\n",
    "        else:\n",
    "            grad_var = egrad(egrad(sigma))\n",
    "            return grad_var(X)\n",
    "\n",
    "    @staticmethod\n",
    "    def rbf_covariance(X, y=None, scale=1.0, length_scale=1.0):\n",
    "        if y is None:\n",
    "            y = X\n",
    "        D = np.expand_dims(X / length_scale, 1) \\\n",
    "            - np.expand_dims(y / length_scale, 0)\n",
    "        return scale * np.exp(-0.5 * np.sum(D ** 2, axis=2))\n",
    "\n",
    "    \n",
    "    "
   ]
  },
  {
   "cell_type": "code",
   "execution_count": 18,
   "metadata": {},
   "outputs": [],
   "source": [
    "def np_gradient(y_pred, xt, n_points=1000):\n",
    "    return np.gradient(y_pred.squeeze(), xt.squeeze(), edge_order=2)[:, np.newaxis]"
   ]
  },
  {
   "cell_type": "code",
   "execution_count": 19,
   "metadata": {},
   "outputs": [
    {
     "ename": "NameError",
     "evalue": "name 'C' is not defined",
     "output_type": "error",
     "traceback": [
      "\u001b[0;31m---------------------------------------------------------------------------\u001b[0m",
      "\u001b[0;31mNameError\u001b[0m                                 Traceback (most recent call last)",
      "\u001b[0;32m<ipython-input-19-c153ad5b44b0>\u001b[0m in \u001b[0;36m<module>\u001b[0;34m()\u001b[0m\n\u001b[0;32m----> 1\u001b[0;31m \u001b[0mskgp_kernel\u001b[0m \u001b[0;34m=\u001b[0m \u001b[0mC\u001b[0m\u001b[0;34m(\u001b[0m\u001b[0;34m)\u001b[0m \u001b[0;34m*\u001b[0m \u001b[0mRBF\u001b[0m\u001b[0;34m(\u001b[0m\u001b[0;34m)\u001b[0m \u001b[0;34m+\u001b[0m \u001b[0mWhiteKernel\u001b[0m\u001b[0;34m(\u001b[0m\u001b[0;34m)\u001b[0m\u001b[0;34m\u001b[0m\u001b[0m\n\u001b[0m\u001b[1;32m      2\u001b[0m \u001b[0mskgp_model\u001b[0m \u001b[0;34m=\u001b[0m \u001b[0mGaussianProcessRegressor\u001b[0m\u001b[0;34m(\u001b[0m\u001b[0mkernel\u001b[0m\u001b[0;34m=\u001b[0m\u001b[0mskgp_kernel\u001b[0m\u001b[0;34m,\u001b[0m \u001b[0mrandom_state\u001b[0m\u001b[0;34m=\u001b[0m\u001b[0mseed\u001b[0m\u001b[0;34m,\u001b[0m \u001b[0mn_restarts_optimizer\u001b[0m\u001b[0;34m=\u001b[0m\u001b[0;36m0\u001b[0m\u001b[0;34m)\u001b[0m\u001b[0;34m\u001b[0m\u001b[0m\n\u001b[1;32m      3\u001b[0m \u001b[0;34m\u001b[0m\u001b[0m\n\u001b[1;32m      4\u001b[0m \u001b[0mskgp_model\u001b[0m\u001b[0;34m.\u001b[0m\u001b[0mfit\u001b[0m\u001b[0;34m(\u001b[0m\u001b[0mxtrain\u001b[0m\u001b[0;34m,\u001b[0m \u001b[0mytrain\u001b[0m\u001b[0;34m)\u001b[0m\u001b[0;34m\u001b[0m\u001b[0m\n\u001b[1;32m      5\u001b[0m \u001b[0;34m\u001b[0m\u001b[0m\n",
      "\u001b[0;31mNameError\u001b[0m: name 'C' is not defined"
     ]
    }
   ],
   "source": [
    "skgp_kernel = C() * RBF() + WhiteKernel()\n",
    "skgp_model = GaussianProcessRegressor(kernel=skgp_kernel, random_state=seed, n_restarts_optimizer=0)\n",
    "\n",
    "skgp_model.fit(xtrain, ytrain)\n",
    "\n",
    "# initialize gp model\n",
    "gp_autograd = GPAutoGrad(skgp_model)\n",
    "\n",
    "gp_autograd.fit();"
   ]
  },
  {
   "cell_type": "code",
   "execution_count": null,
   "metadata": {},
   "outputs": [],
   "source": []
  },
  {
   "cell_type": "markdown",
   "metadata": {},
   "source": [
    "### First Derivative"
   ]
  },
  {
   "cell_type": "code",
   "execution_count": 111,
   "metadata": {},
   "outputs": [
    {
     "name": "stdout",
     "output_type": "stream",
     "text": [
      "(20, 20)\n",
      "(20, 20) (20, 20)\n",
      "(1000,) (1000, 20) (20, 20)\n"
     ]
    }
   ],
   "source": [
    "\n",
    "\n",
    "\n",
    "mu_der, mu_var = gp_autograd.mu_grad(xtest, return_std=True)\n",
    "\n",
    "\n",
    "# # My Gradient Function\n",
    "# my_der = ard_derivative(xtrain, xtest, weights=gp_model.alpha_,\n",
    "#                         length_scale=length_scale, scale=signal_variance)\n",
    "\n",
    "# # Numpy gradient\n",
    "# num_grad = np_gradient(y_pred, xtest)\n"
   ]
  },
  {
   "cell_type": "code",
   "execution_count": 71,
   "metadata": {},
   "outputs": [
    {
     "data": {
      "image/png": "[encoded data removed]",
      "text/plain": [
       "<matplotlib.figure.Figure at 0x7f57cfb1d4a8>"
      ]
     },
     "metadata": {},
     "output_type": "display_data"
    }
   ],
   "source": [
    "fig, ax = plt.subplots(figsize=(10, 7))\n",
    "\n",
    "# ax.scatter(xtrain, ytrain)\n",
    "ax.scatter(xtrain, ytrain, color='r', label='Training Points')\n",
    "ax.plot(xtest, y_pred, color='k', label='Predictions')\n",
    "ax.plot(xtest, mu_der, color='b', linestyle=\":\", label='Autograd Derivative')\n",
    "ax.plot(xtest, my_der, color='g', linestyle=\"-\", label='ARD Derivative')\n",
    "ax.plot(xtest, num_grad, color='y', linestyle=\"--\", label='Numerical Derivative')\n",
    "\n",
    "ax.legend()\n",
    "\n",
    "plt.show()"
   ]
  },
  {
   "cell_type": "markdown",
   "metadata": {},
   "source": [
    "### 2nd Derivative"
   ]
  },
  {
   "cell_type": "code",
   "execution_count": 72,
   "metadata": {},
   "outputs": [],
   "source": [
    "mu_der2 = gp_autograd.mu_grad(xtest, nder=2)\n",
    "\n",
    "# Numpy gradient\n",
    "num_grad = np_gradient(y_pred, xtest)\n",
    "num_grad2 = np_gradient(num_grad, xtest)"
   ]
  },
  {
   "cell_type": "code",
   "execution_count": 73,
   "metadata": {},
   "outputs": [
    {
     "data": {
      "image/png": "[encoded data removed]",
      "text/plain": [
       "<matplotlib.figure.Figure at 0x7f57de389e48>"
      ]
     },
     "metadata": {},
     "output_type": "display_data"
    }
   ],
   "source": [
    "fig, ax = plt.subplots(figsize=(10, 7))\n",
    "\n",
    "# ax.scatter(xtrain, ytrain)\n",
    "ax.scatter(xtrain, ytrain, color='r', label='Training Points')\n",
    "ax.plot(xtest, y_pred, color='k', label='Predictions')\n",
    "ax.plot(xtest, mu_der2, color='b', linestyle=\":\", label='Autograd 2nd Derivative')\n",
    "ax.plot(xtest, num_grad2, color='y', linestyle=\"--\", label='Numerical 2nd Derivative')\n",
    "\n",
    "ax.legend()\n",
    "\n",
    "plt.show()"
   ]
  },
  {
   "cell_type": "markdown",
   "metadata": {},
   "source": [
    "### Test Accuracy"
   ]
  },
  {
   "cell_type": "code",
   "execution_count": 75,
   "metadata": {},
   "outputs": [],
   "source": [
    "assert(mu_der.shape == num_grad2.shape)\n",
    "assert(mu_der2.all() == num_grad2.all())"
   ]
  },
  {
   "cell_type": "markdown",
   "metadata": {},
   "source": [
    "### Test Speed"
   ]
  },
  {
   "cell_type": "code",
   "execution_count": 40,
   "metadata": {},
   "outputs": [],
   "source": [
    "n_spoints = 10000\n",
    "x_speed = np.linspace(-4, 5, n_spoints).reshape(n_spoints, 1)\n"
   ]
  },
  {
   "cell_type": "code",
   "execution_count": 41,
   "metadata": {},
   "outputs": [
    {
     "name": "stdout",
     "output_type": "stream",
     "text": [
      "\n",
      "Speed of Autograd Function:\n",
      "6.94 ms ± 432 µs per loop (mean ± std. dev. of 7 runs, 100 loops each)\n",
      "\n",
      "Speed of ARD Derivative Function:\n",
      "4.09 ms ± 44.6 µs per loop (mean ± std. dev. of 7 runs, 100 loops each)\n",
      "\n",
      "Speed of Numerical Derivative:\n",
      "56 µs ± 2.6 µs per loop (mean ± std. dev. of 7 runs, 10000 loops each)\n"
     ]
    }
   ],
   "source": [
    "print('\\nSpeed of Autograd Function:')\n",
    "%timeit gp_autograd.mu_grad(x_speed)\n",
    "\n",
    "print('\\nSpeed of ARD Derivative Function:')\n",
    "%timeit ard_derivative(xtrain, xtest, weights=gp_model.alpha_, length_scale=length_scale, scale=signal_variance)\n",
    "\n",
    "print('\\nSpeed of Numerical Derivative:')\n",
    "%timeit np_gradient(y_pred, xtest)"
   ]
  },
  {
   "cell_type": "markdown",
   "metadata": {},
   "source": [
    "## Derivative of the Variance Function"
   ]
  },
  {
   "cell_type": "code",
   "execution_count": 42,
   "metadata": {},
   "outputs": [
    {
     "name": "stdout",
     "output_type": "stream",
     "text": [
      "(1000,) (1000, 1)\n"
     ]
    }
   ],
   "source": [
    "sigma_der = gp_autograd.sigma_grad(xtest)\n",
    "print(y_var.shape, xtest.shape)\n",
    "nsigma_der = np.gradient(y_var.squeeze(), xtest.squeeze())"
   ]
  },
  {
   "cell_type": "code",
   "execution_count": 43,
   "metadata": {},
   "outputs": [
    {
     "data": {
      "image/png": "[encoded data removed]",
      "text/plain": [
       "<matplotlib.figure.Figure at 0x7f57de347978>"
      ]
     },
     "metadata": {},
     "output_type": "display_data"
    }
   ],
   "source": [
    "fig, ax = plt.subplots(figsize=(10, 7))\n",
    "\n",
    "# ax.scatter(xtrain, ytrain)\n",
    "# ax.scatter(xtrain, ytrain, color='r', label='Training Points')\n",
    "ax.plot(xtest, y_var, color='k', label='Variance')\n",
    "ax.plot(xtest, sigma_der, color='r', label='Autograd Derivative')\n",
    "ax.plot(xtest, nsigma_der, color='b', linestyle=\":\", label='Numerical Derivative')\n",
    "# ax.plot(xtest, my_der, color='g', linestyle=\"-\", label='ARD Derivative')\n",
    "# ax.plot(xtest, num_grad, color='y', linestyle=\"-\", label='Numerical Derivative')\n",
    "\n",
    "ax.legend()\n",
    "\n",
    "plt.show()"
   ]
  },
  {
   "cell_type": "code",
   "execution_count": 44,
   "metadata": {},
   "outputs": [
    {
     "name": "stdout",
     "output_type": "stream",
     "text": [
      "\n",
      "Speed of ARD Derivative Function:\n",
      "37.9 ms ± 584 µs per loop (mean ± std. dev. of 7 runs, 10 loops each)\n",
      "\n",
      "Speed of Numerical Derivative:\n",
      "52.1 µs ± 2.79 µs per loop (mean ± std. dev. of 7 runs, 10000 loops each)\n"
     ]
    }
   ],
   "source": [
    "print('\\nSpeed of ARD Derivative Function:')\n",
    "%timeit gp_autograd.sigma_grad(xtest)\n",
    "\n",
    "print('\\nSpeed of Numerical Derivative:')\n",
    "%timeit np.gradient(y_var.squeeze(), xtest.squeeze())"
   ]
  },
  {
   "cell_type": "code",
   "execution_count": 3,
   "metadata": {},
   "outputs": [],
   "source": [
    "import autograd.scipy.stats.multivariate_normal as mvn\n",
    "\n",
    "class GaussianProcessRegressor(BaseEstimator, RegressorMixin):\n",
    "    def __init__(self, kernel='rbf', jitter=1e-09, random_state=None):\n",
    "        self.kernel = kernel\n",
    "        self.jitter = jitter\n",
    "        self.random_state = random_state\n",
    "\n",
    "    def fit(self, X, y):\n",
    "        \n",
    "        # standardize the data\n",
    "        self.X = X\n",
    "        self.Y = y\n",
    "        \n",
    "        # initialize parameters\n",
    "        noise_scale = 0.01\n",
    "        length_scale = 10.0\n",
    "        theta0 = np.array([noise_scale, length_scale])\n",
    "        bounds = ((1e-10, 1e10), (1e-10, 1e10))\n",
    "        \n",
    "        # define objective function: negative log marginal likelihood\n",
    "        objective = lambda theta0: -self.log_marginal_likelihood(theta0)\n",
    "        \n",
    "        # minimize negative log marginal likelihood\n",
    "        cov_params = minimize(value_and_grad(objective), theta0, jac=True, args=(), method='L-BFGS-B', bounds=bounds)\n",
    "        \n",
    "        # get params\n",
    "        self.noise_scale, self.length_scale = self._unpack_kernel_params(cov_params.x)\n",
    "        \n",
    "        # calculate the weights\n",
    "        K = self.K(self.X, length_scale=self.length_scale)\n",
    "        self.L = np.linalg.cholesky(K + noise_scale * np.eye(K.shape[0]))\n",
    "        weights =  np.linalg.solve(self.L.T, np.linalg.solve(self.L, self.Y))\n",
    "        self.weights_ = weights\n",
    "        \n",
    "        return self\n",
    "    \n",
    "#     def K(self, X, Y=None, length_scale=1.0, scale=1.0):\n",
    "        \n",
    "#         scale_term = - 0.5 / np.power(length_scale, 2)\n",
    "        \n",
    "#         dists\n",
    "\n",
    "#         if Y is None:\n",
    "\n",
    "#             dists = pdist(X, metric='sqeuclidean')\n",
    "\n",
    "#             K = np.exp(scale_term * dists)\n",
    "\n",
    "#             K = squareform(K)\n",
    "\n",
    "#             np.fill_diagonal(K, 1)\n",
    "\n",
    "#         else:\n",
    "\n",
    "#             dists = cdist(X, Y, metric='sqeuclidean')\n",
    "\n",
    "#             K = np.exp(scale_term  * dists) \n",
    "\n",
    "\n",
    "#         return K\n",
    "    def K(self, X, Y=None, length_scale=1.0, scale=1.0):\n",
    "        \n",
    "#         scale_term = - 0.5 / np.power(length_scale, 2)\n",
    "        \n",
    "        diffs = np.expand_dims(X / length_scales, 1) \\\n",
    "            - np.expanddims(Y / length_scales, 0)\n",
    "\n",
    "\n",
    "        return np.exp(-0.5 * np.sum(diffs**2, axis=2))\n",
    "    \n",
    "    def predict(self, X, return_std=None):\n",
    "        \n",
    "        K = self.K(X, self.X, length_scale=self.length_scale)\n",
    "        \n",
    "        predictions = np.dot(K, self.weights_)\n",
    "        if not return_std:\n",
    "            return predictions\n",
    "        else:            \n",
    "            K_test = rbf_covariance(X, length_scale=self.length_scale)\n",
    "            v = np.linalg.solve(self.L, K.T)\n",
    "            std_dev = np.sqrt(self.noise_scale + np.diag(K_test - np.dot(v.T, v)))\n",
    "            return predictions, std_dev\n",
    "    \n",
    "    def pred_grad(self, X):\n",
    "        \n",
    "        mu = lambda x: self.predict(x, return_std=False)\n",
    "        auto_grad = autograd.grad(mu)\n",
    "        \n",
    "        return auto_grad(X)\n",
    "    \n",
    "    def _unpack_kernel_params(self, params):\n",
    "        return params[0], params[1:]\n",
    "    \n",
    "    def log_marginal_likelihood(self, params):\n",
    "        \n",
    "        x_train = self.X\n",
    "        y_train = self.Y\n",
    "        \n",
    "        # unpack the parameters\n",
    "        noise_scale, length_scale = self._unpack_kernel_params(params)\n",
    "        \n",
    "        # calculate the covariance matrix\n",
    "        K = self.K(x_train, length_scale=length_scale)\n",
    "        K_chol = K + noise_scale * np.eye(K.shape[0])\n",
    "#         K += self.jitter * np.eye(K.shape[0])\n",
    "        \n",
    "        # Solve the cholesky\n",
    "        print(K.shape)\n",
    "        try:\n",
    "            self.L = np.linalg.cholesky(K_chol)\n",
    "            \n",
    "        except np.linalg.LinAlgError:\n",
    "            return -np.inf\n",
    "                \n",
    "        if y_train.ndim == 1:\n",
    "            y_train = y_train[:, np.newaxis]\n",
    "        \n",
    "        # get the weights\n",
    "        alpha = np.linalg.solve(self.L.T, np.linalg.solve(self.L, y_train))\n",
    "        \n",
    "        # compute log-likelihood\n",
    "        log_likelihood_dims = -0.5 * np.einsum('ik,ik->k', y_train, alpha)\n",
    "        log_likelihood_dims -= np.log(np.diag(self.L)).sum()\n",
    "        log_likelihood_dims -= (K.shape[0] / 2 ) * np.log(2 * np.pi)\n",
    "        \n",
    "        log_likelihood = log_likelihood_dims.sum(-1)\n",
    "        \n",
    "        return log_likelihood\n",
    "        "
   ]
  },
  {
   "cell_type": "code",
   "execution_count": 4,
   "metadata": {},
   "outputs": [],
   "source": [
    "import autograd.scipy.stats.multivariate_normal as mvn\n",
    "\n",
    "class GaussianProcessRegressor(BaseEstimator, RegressorMixin):\n",
    "    def __init__(self, kernel='rbf', jitter=1e-09, random_state=None):\n",
    "        self.kernel = kernel\n",
    "        self.jitter = jitter\n",
    "        self.random_state = random_state\n",
    "\n",
    "    def fit(self, X, y):\n",
    "        \n",
    "        # standardize the data\n",
    "        self.X = X\n",
    "        self.Y = y\n",
    "        \n",
    "        # initialize parameters\n",
    "        noise_scale = 0.01\n",
    "        length_scale = 10.0\n",
    "        theta0 = np.array([noise_scale, length_scale])\n",
    "        bounds = ((1e-10, 1e10), (1e-10, 1e10))\n",
    "        \n",
    "        # define objective function: negative log marginal likelihood\n",
    "        objective = lambda theta0: -self.log_marginal_likelihood(theta0)\n",
    "        \n",
    "        # minimize negative log marginal likelihood\n",
    "        cov_params = minimize(value_and_grad(objective), theta0, jac=True, args=(), method='L-BFGS-B', bounds=bounds)\n",
    "        \n",
    "        # get params\n",
    "        self.noise_scale, self.length_scale = self._unpack_kernel_params(cov_params.x)\n",
    "        \n",
    "        # calculate the weights\n",
    "        K = self.K(self.X, length_scale=self.length_scale)\n",
    "        self.L = np.linalg.cholesky(K + noise_scale * np.eye(K.shape[0]))\n",
    "        weights =  np.linalg.solve(self.L.T, np.linalg.solve(self.L, self.Y))\n",
    "        self.weights_ = weights\n",
    "        \n",
    "        return self\n",
    "    \n",
    "    def K(self, X, Y=None, length_scale=1.0, scale=1.0):\n",
    "        \n",
    "        scale_term = - 0.5 / np.power(length_scale, 2)\n",
    "\n",
    "        if Y is None:\n",
    "\n",
    "            dists = pdist(X, metric='sqeuclidean')\n",
    "\n",
    "            K = np.exp(scale_term * dists)\n",
    "\n",
    "            K = squareform(K)\n",
    "\n",
    "            np.fill_diagonal(K, 1)\n",
    "\n",
    "        else:\n",
    "\n",
    "            dists = cdist(X, Y, metric='sqeuclidean')\n",
    "\n",
    "            K = np.exp(scale_term  * dists) \n",
    "\n",
    "\n",
    "        return K\n",
    "    \n",
    "    def predict(self, X, return_std=None):\n",
    "        \n",
    "        K = self.K(X, self.X, length_scale=self.length_scale)\n",
    "        \n",
    "        predictions = np.dot(K, self.weights_)\n",
    "        if not return_std:\n",
    "            return predictions\n",
    "        else:            \n",
    "            K_test = rbf_covariance(X, length_scale=self.length_scale)\n",
    "            v = np.linalg.solve(self.L, K.T)\n",
    "            std_dev = np.sqrt(self.noise_scale + np.diag(K_test - np.dot(v.T, v)))\n",
    "            return predictions, std_dev\n",
    "    \n",
    "    def pred_grad(self, X):\n",
    "        \n",
    "        mu = lambda x: self.predict(x, return_std=False)\n",
    "        auto_grad = autograd.grad(mu)\n",
    "        \n",
    "        return auto_grad(X)\n",
    "    \n",
    "    def _unpack_kernel_params(self, params):\n",
    "        return params[0], params[1:]\n",
    "    \n",
    "    def log_marginal_likelihood(self, params):\n",
    "        \n",
    "        x_train = self.X\n",
    "        y_train = self.Y\n",
    "        \n",
    "        # unpack the parameters\n",
    "        noise_scale, length_scale = self._unpack_kernel_params(params)\n",
    "        ktrain = self.K(x_train, length_scale=length_scale) \n",
    "        white_kern = noise_scale * np.eye(len(y_train))\n",
    "        print(ktrain.shape, white_kern.shape)\n",
    "        K = ktrain + white_kern\n",
    "#         # calculate the covariance matrix\n",
    "#         K = self.K(x_train, length_scale=length_scale)\n",
    "#         K_chol = K + noise_scale * np.eye(K.shape[0])\n",
    "# #         K += self.jitter * np.eye(K.shape[0])\n",
    "        \n",
    "#         # Solve the cholesky\n",
    "#         print(K.shape)\n",
    "#         try:\n",
    "#             self.L = np.linalg.cholesky(K_chol)\n",
    "            \n",
    "#         except np.linalg.LinAlgError:\n",
    "#             return -np.inf\n",
    "                \n",
    "#         if y_train.ndim == 1:\n",
    "#             y_train = y_train[:, np.newaxis]\n",
    "        \n",
    "#         # get the weights\n",
    "#         alpha = np.linalg.solve(self.L.T, np.linalg.solve(self.L, y_train))\n",
    "        \n",
    "#         # compute log-likelihood\n",
    "#         log_likelihood_dims = -0.5 * np.einsum('ik,ik->k', y_train, alpha)\n",
    "#         log_likelihood_dims -= np.log(np.diag(self.L)).sum()\n",
    "#         log_likelihood_dims -= (K.shape[0] / 2 ) * np.log(2 * np.pi)\n",
    "        \n",
    "#         log_likelihood = log_likelihood_dims.sum(-1)\n",
    "        tmp = mvn.logpdf(y_train, 0.0, Kernel)\n",
    "        print(tmp)\n",
    "        return tmp\n",
    "        "
   ]
  },
  {
   "cell_type": "markdown",
   "metadata": {},
   "source": [
    "### Data"
   ]
  },
  {
   "cell_type": "code",
   "execution_count": 5,
   "metadata": {},
   "outputs": [
    {
     "name": "stdout",
     "output_type": "stream",
     "text": [
      "X training data: (30, 1)\n",
      "X testing data: (30, 1)\n"
     ]
    },
    {
     "data": {
      "image/png": "[encoded data removed]",
      "text/plain": [
       "<matplotlib.figure.Figure at 0x7f734da2def0>"
      ]
     },
     "metadata": {},
     "output_type": "display_data"
    }
   ],
   "source": [
    "# get some toy data\n",
    "d_dimensions = 1\n",
    "n_samples = 20\n",
    "noise_std = 0.1\n",
    "seed = 123\n",
    "rs = np.random.RandomState(seed)\n",
    "\n",
    "n_train = 30\n",
    "n_test = 30\n",
    "xtrain = np.linspace(-4, 5, n_train).reshape(n_train, 1)\n",
    "xtest = np.linspace(-4, 5, n_test).reshape(n_test, 1)\n",
    "print('X training data:', xtrain.shape)\n",
    "print('X testing data:', xtest.shape)\n",
    "\n",
    "\n",
    "# Labels\n",
    "f = lambda x: np.sin(x) * np.exp(0.2 * x)\n",
    "ytrain = f(xtrain) + noise_std * np.random.randn(n_train, 1)\n",
    "ytest = f(xtest)\n",
    "# Plot the function\n",
    "fig, ax = plt.subplots(figsize=(5, 3))\n",
    "\n",
    "ax.scatter(xtrain, ytrain)\n",
    "ax.plot(xtest, ytest)\n",
    "\n",
    "plt.show()\n",
    "\n"
   ]
  },
  {
   "cell_type": "markdown",
   "metadata": {},
   "source": [
    "### Test Function"
   ]
  },
  {
   "cell_type": "code",
   "execution_count": 6,
   "metadata": {},
   "outputs": [
    {
     "name": "stdout",
     "output_type": "stream",
     "text": [
      "(30, 30) (30, 30)\n"
     ]
    },
    {
     "ename": "AttributeError",
     "evalue": "_trace",
     "output_type": "error",
     "traceback": [
      "\u001b[0;31m---------------------------------------------------------------------------\u001b[0m",
      "\u001b[0;31mAttributeError\u001b[0m                            Traceback (most recent call last)",
      "\u001b[0;32m<ipython-input-6-af11e02b2874>\u001b[0m in \u001b[0;36m<module>\u001b[0;34m()\u001b[0m\n\u001b[1;32m      3\u001b[0m \u001b[0;34m\u001b[0m\u001b[0m\n\u001b[1;32m      4\u001b[0m \u001b[0;31m# fit the gp model to the inputs and targets\u001b[0m\u001b[0;34m\u001b[0m\u001b[0;34m\u001b[0m\u001b[0m\n\u001b[0;32m----> 5\u001b[0;31m \u001b[0mgp_model\u001b[0m\u001b[0;34m.\u001b[0m\u001b[0mfit\u001b[0m\u001b[0;34m(\u001b[0m\u001b[0mxtrain\u001b[0m\u001b[0;34m,\u001b[0m \u001b[0mytrain\u001b[0m\u001b[0;34m)\u001b[0m\u001b[0;34m\u001b[0m\u001b[0m\n\u001b[0m\u001b[1;32m      6\u001b[0m \u001b[0;34m\u001b[0m\u001b[0m\n\u001b[1;32m      7\u001b[0m \u001b[0my_pred\u001b[0m\u001b[0;34m,\u001b[0m \u001b[0msigma\u001b[0m \u001b[0;34m=\u001b[0m \u001b[0mgp_model\u001b[0m\u001b[0;34m.\u001b[0m\u001b[0mpredict\u001b[0m\u001b[0;34m(\u001b[0m\u001b[0mxtest\u001b[0m\u001b[0;34m,\u001b[0m \u001b[0mreturn_std\u001b[0m\u001b[0;34m=\u001b[0m\u001b[0;32mTrue\u001b[0m\u001b[0;34m)\u001b[0m\u001b[0;34m\u001b[0m\u001b[0m\n",
      "\u001b[0;32m<ipython-input-4-d4993c7e166c>\u001b[0m in \u001b[0;36mfit\u001b[0;34m(self, X, y)\u001b[0m\n\u001b[1;32m     23\u001b[0m \u001b[0;34m\u001b[0m\u001b[0m\n\u001b[1;32m     24\u001b[0m         \u001b[0;31m# minimize negative log marginal likelihood\u001b[0m\u001b[0;34m\u001b[0m\u001b[0;34m\u001b[0m\u001b[0m\n\u001b[0;32m---> 25\u001b[0;31m         \u001b[0mcov_params\u001b[0m \u001b[0;34m=\u001b[0m \u001b[0mminimize\u001b[0m\u001b[0;34m(\u001b[0m\u001b[0mvalue_and_grad\u001b[0m\u001b[0;34m(\u001b[0m\u001b[0mobjective\u001b[0m\u001b[0;34m)\u001b[0m\u001b[0;34m,\u001b[0m \u001b[0mtheta0\u001b[0m\u001b[0;34m,\u001b[0m \u001b[0mjac\u001b[0m\u001b[0;34m=\u001b[0m\u001b[0;32mTrue\u001b[0m\u001b[0;34m,\u001b[0m \u001b[0margs\u001b[0m\u001b[0;34m=\u001b[0m\u001b[0;34m(\u001b[0m\u001b[0;34m)\u001b[0m\u001b[0;34m,\u001b[0m \u001b[0mmethod\u001b[0m\u001b[0;34m=\u001b[0m\u001b[0;34m'L-BFGS-B'\u001b[0m\u001b[0;34m,\u001b[0m \u001b[0mbounds\u001b[0m\u001b[0;34m=\u001b[0m\u001b[0mbounds\u001b[0m\u001b[0;34m)\u001b[0m\u001b[0;34m\u001b[0m\u001b[0m\n\u001b[0m\u001b[1;32m     26\u001b[0m \u001b[0;34m\u001b[0m\u001b[0m\n\u001b[1;32m     27\u001b[0m         \u001b[0;31m# get params\u001b[0m\u001b[0;34m\u001b[0m\u001b[0;34m\u001b[0m\u001b[0m\n",
      "\u001b[0;32m~/anaconda3/envs/gps/lib/python3.6/site-packages/scipy/optimize/_minimize.py\u001b[0m in \u001b[0;36mminimize\u001b[0;34m(fun, x0, args, method, jac, hess, hessp, bounds, constraints, tol, callback, options)\u001b[0m\n\u001b[1;32m    601\u001b[0m     \u001b[0;32melif\u001b[0m \u001b[0mmeth\u001b[0m \u001b[0;34m==\u001b[0m \u001b[0;34m'l-bfgs-b'\u001b[0m\u001b[0;34m:\u001b[0m\u001b[0;34m\u001b[0m\u001b[0m\n\u001b[1;32m    602\u001b[0m         return _minimize_lbfgsb(fun, x0, args, jac, bounds,\n\u001b[0;32m--> 603\u001b[0;31m                                 callback=callback, **options)\n\u001b[0m\u001b[1;32m    604\u001b[0m     \u001b[0;32melif\u001b[0m \u001b[0mmeth\u001b[0m \u001b[0;34m==\u001b[0m \u001b[0;34m'tnc'\u001b[0m\u001b[0;34m:\u001b[0m\u001b[0;34m\u001b[0m\u001b[0m\n\u001b[1;32m    605\u001b[0m         return _minimize_tnc(fun, x0, args, jac, bounds, callback=callback,\n",
      "\u001b[0;32m~/anaconda3/envs/gps/lib/python3.6/site-packages/scipy/optimize/lbfgsb.py\u001b[0m in \u001b[0;36m_minimize_lbfgsb\u001b[0;34m(fun, x0, args, jac, bounds, disp, maxcor, ftol, gtol, eps, maxfun, maxiter, iprint, callback, maxls, **unknown_options)\u001b[0m\n\u001b[1;32m    333\u001b[0m             \u001b[0;31m# until the completion of the current minimization iteration.\u001b[0m\u001b[0;34m\u001b[0m\u001b[0;34m\u001b[0m\u001b[0m\n\u001b[1;32m    334\u001b[0m             \u001b[0;31m# Overwrite f and g:\u001b[0m\u001b[0;34m\u001b[0m\u001b[0;34m\u001b[0m\u001b[0m\n\u001b[0;32m--> 335\u001b[0;31m             \u001b[0mf\u001b[0m\u001b[0;34m,\u001b[0m \u001b[0mg\u001b[0m \u001b[0;34m=\u001b[0m \u001b[0mfunc_and_grad\u001b[0m\u001b[0;34m(\u001b[0m\u001b[0mx\u001b[0m\u001b[0;34m)\u001b[0m\u001b[0;34m\u001b[0m\u001b[0m\n\u001b[0m\u001b[1;32m    336\u001b[0m         \u001b[0;32melif\u001b[0m \u001b[0mtask_str\u001b[0m\u001b[0;34m.\u001b[0m\u001b[0mstartswith\u001b[0m\u001b[0;34m(\u001b[0m\u001b[0;34mb'NEW_X'\u001b[0m\u001b[0;34m)\u001b[0m\u001b[0;34m:\u001b[0m\u001b[0;34m\u001b[0m\u001b[0m\n\u001b[1;32m    337\u001b[0m             \u001b[0;31m# new iteration\u001b[0m\u001b[0;34m\u001b[0m\u001b[0;34m\u001b[0m\u001b[0m\n",
      "\u001b[0;32m~/anaconda3/envs/gps/lib/python3.6/site-packages/scipy/optimize/lbfgsb.py\u001b[0m in \u001b[0;36mfunc_and_grad\u001b[0;34m(x)\u001b[0m\n\u001b[1;32m    283\u001b[0m     \u001b[0;32melse\u001b[0m\u001b[0;34m:\u001b[0m\u001b[0;34m\u001b[0m\u001b[0m\n\u001b[1;32m    284\u001b[0m         \u001b[0;32mdef\u001b[0m \u001b[0mfunc_and_grad\u001b[0m\u001b[0;34m(\u001b[0m\u001b[0mx\u001b[0m\u001b[0;34m)\u001b[0m\u001b[0;34m:\u001b[0m\u001b[0;34m\u001b[0m\u001b[0m\n\u001b[0;32m--> 285\u001b[0;31m             \u001b[0mf\u001b[0m \u001b[0;34m=\u001b[0m \u001b[0mfun\u001b[0m\u001b[0;34m(\u001b[0m\u001b[0mx\u001b[0m\u001b[0;34m,\u001b[0m \u001b[0;34m*\u001b[0m\u001b[0margs\u001b[0m\u001b[0;34m)\u001b[0m\u001b[0;34m\u001b[0m\u001b[0m\n\u001b[0m\u001b[1;32m    286\u001b[0m             \u001b[0mg\u001b[0m \u001b[0;34m=\u001b[0m \u001b[0mjac\u001b[0m\u001b[0;34m(\u001b[0m\u001b[0mx\u001b[0m\u001b[0;34m,\u001b[0m \u001b[0;34m*\u001b[0m\u001b[0margs\u001b[0m\u001b[0;34m)\u001b[0m\u001b[0;34m\u001b[0m\u001b[0m\n\u001b[1;32m    287\u001b[0m             \u001b[0;32mreturn\u001b[0m \u001b[0mf\u001b[0m\u001b[0;34m,\u001b[0m \u001b[0mg\u001b[0m\u001b[0;34m\u001b[0m\u001b[0m\n",
      "\u001b[0;32m~/anaconda3/envs/gps/lib/python3.6/site-packages/scipy/optimize/optimize.py\u001b[0m in \u001b[0;36mfunction_wrapper\u001b[0;34m(*wrapper_args)\u001b[0m\n\u001b[1;32m    291\u001b[0m     \u001b[0;32mdef\u001b[0m \u001b[0mfunction_wrapper\u001b[0m\u001b[0;34m(\u001b[0m\u001b[0;34m*\u001b[0m\u001b[0mwrapper_args\u001b[0m\u001b[0;34m)\u001b[0m\u001b[0;34m:\u001b[0m\u001b[0;34m\u001b[0m\u001b[0m\n\u001b[1;32m    292\u001b[0m         \u001b[0mncalls\u001b[0m\u001b[0;34m[\u001b[0m\u001b[0;36m0\u001b[0m\u001b[0;34m]\u001b[0m \u001b[0;34m+=\u001b[0m \u001b[0;36m1\u001b[0m\u001b[0;34m\u001b[0m\u001b[0m\n\u001b[0;32m--> 293\u001b[0;31m         \u001b[0;32mreturn\u001b[0m \u001b[0mfunction\u001b[0m\u001b[0;34m(\u001b[0m\u001b[0;34m*\u001b[0m\u001b[0;34m(\u001b[0m\u001b[0mwrapper_args\u001b[0m \u001b[0;34m+\u001b[0m \u001b[0margs\u001b[0m\u001b[0;34m)\u001b[0m\u001b[0;34m)\u001b[0m\u001b[0;34m\u001b[0m\u001b[0m\n\u001b[0m\u001b[1;32m    294\u001b[0m \u001b[0;34m\u001b[0m\u001b[0m\n\u001b[1;32m    295\u001b[0m     \u001b[0;32mreturn\u001b[0m \u001b[0mncalls\u001b[0m\u001b[0;34m,\u001b[0m \u001b[0mfunction_wrapper\u001b[0m\u001b[0;34m\u001b[0m\u001b[0m\n",
      "\u001b[0;32m~/anaconda3/envs/gps/lib/python3.6/site-packages/scipy/optimize/optimize.py\u001b[0m in \u001b[0;36m__call__\u001b[0;34m(self, x, *args)\u001b[0m\n\u001b[1;32m     61\u001b[0m     \u001b[0;32mdef\u001b[0m \u001b[0m__call__\u001b[0m\u001b[0;34m(\u001b[0m\u001b[0mself\u001b[0m\u001b[0;34m,\u001b[0m \u001b[0mx\u001b[0m\u001b[0;34m,\u001b[0m \u001b[0;34m*\u001b[0m\u001b[0margs\u001b[0m\u001b[0;34m)\u001b[0m\u001b[0;34m:\u001b[0m\u001b[0;34m\u001b[0m\u001b[0m\n\u001b[1;32m     62\u001b[0m         \u001b[0mself\u001b[0m\u001b[0;34m.\u001b[0m\u001b[0mx\u001b[0m \u001b[0;34m=\u001b[0m \u001b[0mnumpy\u001b[0m\u001b[0;34m.\u001b[0m\u001b[0masarray\u001b[0m\u001b[0;34m(\u001b[0m\u001b[0mx\u001b[0m\u001b[0;34m)\u001b[0m\u001b[0;34m.\u001b[0m\u001b[0mcopy\u001b[0m\u001b[0;34m(\u001b[0m\u001b[0;34m)\u001b[0m\u001b[0;34m\u001b[0m\u001b[0m\n\u001b[0;32m---> 63\u001b[0;31m         \u001b[0mfg\u001b[0m \u001b[0;34m=\u001b[0m \u001b[0mself\u001b[0m\u001b[0;34m.\u001b[0m\u001b[0mfun\u001b[0m\u001b[0;34m(\u001b[0m\u001b[0mx\u001b[0m\u001b[0;34m,\u001b[0m \u001b[0;34m*\u001b[0m\u001b[0margs\u001b[0m\u001b[0;34m)\u001b[0m\u001b[0;34m\u001b[0m\u001b[0m\n\u001b[0m\u001b[1;32m     64\u001b[0m         \u001b[0mself\u001b[0m\u001b[0;34m.\u001b[0m\u001b[0mjac\u001b[0m \u001b[0;34m=\u001b[0m \u001b[0mfg\u001b[0m\u001b[0;34m[\u001b[0m\u001b[0;36m1\u001b[0m\u001b[0;34m]\u001b[0m\u001b[0;34m\u001b[0m\u001b[0m\n\u001b[1;32m     65\u001b[0m         \u001b[0;32mreturn\u001b[0m \u001b[0mfg\u001b[0m\u001b[0;34m[\u001b[0m\u001b[0;36m0\u001b[0m\u001b[0;34m]\u001b[0m\u001b[0;34m\u001b[0m\u001b[0m\n",
      "\u001b[0;32m~/anaconda3/envs/gps/lib/python3.6/site-packages/autograd/wrap_util.py\u001b[0m in \u001b[0;36mnary_f\u001b[0;34m(*args, **kwargs)\u001b[0m\n\u001b[1;32m     18\u001b[0m             \u001b[0;32melse\u001b[0m\u001b[0;34m:\u001b[0m\u001b[0;34m\u001b[0m\u001b[0m\n\u001b[1;32m     19\u001b[0m                 \u001b[0mx\u001b[0m \u001b[0;34m=\u001b[0m \u001b[0mtuple\u001b[0m\u001b[0;34m(\u001b[0m\u001b[0margs\u001b[0m\u001b[0;34m[\u001b[0m\u001b[0mi\u001b[0m\u001b[0;34m]\u001b[0m \u001b[0;32mfor\u001b[0m \u001b[0mi\u001b[0m \u001b[0;32min\u001b[0m \u001b[0margnum\u001b[0m\u001b[0;34m)\u001b[0m\u001b[0;34m\u001b[0m\u001b[0m\n\u001b[0;32m---> 20\u001b[0;31m             \u001b[0;32mreturn\u001b[0m \u001b[0munary_operator\u001b[0m\u001b[0;34m(\u001b[0m\u001b[0munary_f\u001b[0m\u001b[0;34m,\u001b[0m \u001b[0mx\u001b[0m\u001b[0;34m,\u001b[0m \u001b[0;34m*\u001b[0m\u001b[0mnary_op_args\u001b[0m\u001b[0;34m,\u001b[0m \u001b[0;34m**\u001b[0m\u001b[0mnary_op_kwargs\u001b[0m\u001b[0;34m)\u001b[0m\u001b[0;34m\u001b[0m\u001b[0m\n\u001b[0m\u001b[1;32m     21\u001b[0m         \u001b[0;32mreturn\u001b[0m \u001b[0mnary_f\u001b[0m\u001b[0;34m\u001b[0m\u001b[0m\n\u001b[1;32m     22\u001b[0m     \u001b[0;32mreturn\u001b[0m \u001b[0mnary_operator\u001b[0m\u001b[0;34m\u001b[0m\u001b[0m\n",
      "\u001b[0;32m~/anaconda3/envs/gps/lib/python3.6/site-packages/autograd/differential_operators.py\u001b[0m in \u001b[0;36mvalue_and_grad\u001b[0;34m(fun, x)\u001b[0m\n\u001b[1;32m    127\u001b[0m     \"\"\"Returns a function that returns both value and gradient. Suitable for use\n\u001b[1;32m    128\u001b[0m     in scipy.optimize\"\"\"\n\u001b[0;32m--> 129\u001b[0;31m     \u001b[0mvjp\u001b[0m\u001b[0;34m,\u001b[0m \u001b[0mans\u001b[0m \u001b[0;34m=\u001b[0m \u001b[0m_make_vjp\u001b[0m\u001b[0;34m(\u001b[0m\u001b[0mfun\u001b[0m\u001b[0;34m,\u001b[0m \u001b[0mx\u001b[0m\u001b[0;34m)\u001b[0m\u001b[0;34m\u001b[0m\u001b[0m\n\u001b[0m\u001b[1;32m    130\u001b[0m     \u001b[0;32mreturn\u001b[0m \u001b[0mans\u001b[0m\u001b[0;34m,\u001b[0m \u001b[0mvjp\u001b[0m\u001b[0;34m(\u001b[0m\u001b[0mvspace\u001b[0m\u001b[0;34m(\u001b[0m\u001b[0mans\u001b[0m\u001b[0;34m)\u001b[0m\u001b[0;34m.\u001b[0m\u001b[0mones\u001b[0m\u001b[0;34m(\u001b[0m\u001b[0;34m)\u001b[0m\u001b[0;34m)\u001b[0m\u001b[0;34m\u001b[0m\u001b[0m\n\u001b[1;32m    131\u001b[0m \u001b[0;34m\u001b[0m\u001b[0m\n",
      "\u001b[0;32m~/anaconda3/envs/gps/lib/python3.6/site-packages/autograd/core.py\u001b[0m in \u001b[0;36mmake_vjp\u001b[0;34m(fun, x)\u001b[0m\n\u001b[1;32m      8\u001b[0m \u001b[0;32mdef\u001b[0m \u001b[0mmake_vjp\u001b[0m\u001b[0;34m(\u001b[0m\u001b[0mfun\u001b[0m\u001b[0;34m,\u001b[0m \u001b[0mx\u001b[0m\u001b[0;34m)\u001b[0m\u001b[0;34m:\u001b[0m\u001b[0;34m\u001b[0m\u001b[0m\n\u001b[1;32m      9\u001b[0m     \u001b[0mstart_node\u001b[0m \u001b[0;34m=\u001b[0m \u001b[0mVJPNode\u001b[0m\u001b[0;34m.\u001b[0m\u001b[0mnew_root\u001b[0m\u001b[0;34m(\u001b[0m\u001b[0mx\u001b[0m\u001b[0;34m)\u001b[0m\u001b[0;34m\u001b[0m\u001b[0m\n\u001b[0;32m---> 10\u001b[0;31m     \u001b[0mend_value\u001b[0m\u001b[0;34m,\u001b[0m \u001b[0mend_node\u001b[0m \u001b[0;34m=\u001b[0m  \u001b[0mtrace\u001b[0m\u001b[0;34m(\u001b[0m\u001b[0mstart_node\u001b[0m\u001b[0;34m,\u001b[0m \u001b[0mfun\u001b[0m\u001b[0;34m,\u001b[0m \u001b[0mx\u001b[0m\u001b[0;34m)\u001b[0m\u001b[0;34m\u001b[0m\u001b[0m\n\u001b[0m\u001b[1;32m     11\u001b[0m     \u001b[0;32mif\u001b[0m \u001b[0mend_node\u001b[0m \u001b[0;32mis\u001b[0m \u001b[0;32mNone\u001b[0m\u001b[0;34m:\u001b[0m\u001b[0;34m\u001b[0m\u001b[0m\n\u001b[1;32m     12\u001b[0m         \u001b[0;32mdef\u001b[0m \u001b[0mvjp\u001b[0m\u001b[0;34m(\u001b[0m\u001b[0mg\u001b[0m\u001b[0;34m)\u001b[0m\u001b[0;34m:\u001b[0m \u001b[0;32mreturn\u001b[0m \u001b[0mvspace\u001b[0m\u001b[0;34m(\u001b[0m\u001b[0mx\u001b[0m\u001b[0;34m)\u001b[0m\u001b[0;34m.\u001b[0m\u001b[0mzeros\u001b[0m\u001b[0;34m(\u001b[0m\u001b[0;34m)\u001b[0m\u001b[0;34m\u001b[0m\u001b[0m\n",
      "\u001b[0;32m~/anaconda3/envs/gps/lib/python3.6/site-packages/autograd/tracer.py\u001b[0m in \u001b[0;36mtrace\u001b[0;34m(start_node, fun, x)\u001b[0m\n\u001b[1;32m      8\u001b[0m     \u001b[0;32mwith\u001b[0m \u001b[0mtrace_stack\u001b[0m\u001b[0;34m.\u001b[0m\u001b[0mnew_trace\u001b[0m\u001b[0;34m(\u001b[0m\u001b[0;34m)\u001b[0m \u001b[0;32mas\u001b[0m \u001b[0mt\u001b[0m\u001b[0;34m:\u001b[0m\u001b[0;34m\u001b[0m\u001b[0m\n\u001b[1;32m      9\u001b[0m         \u001b[0mstart_box\u001b[0m \u001b[0;34m=\u001b[0m \u001b[0mnew_box\u001b[0m\u001b[0;34m(\u001b[0m\u001b[0mx\u001b[0m\u001b[0;34m,\u001b[0m \u001b[0mt\u001b[0m\u001b[0;34m,\u001b[0m \u001b[0mstart_node\u001b[0m\u001b[0;34m)\u001b[0m\u001b[0;34m\u001b[0m\u001b[0m\n\u001b[0;32m---> 10\u001b[0;31m         \u001b[0mend_box\u001b[0m \u001b[0;34m=\u001b[0m \u001b[0mfun\u001b[0m\u001b[0;34m(\u001b[0m\u001b[0mstart_box\u001b[0m\u001b[0;34m)\u001b[0m\u001b[0;34m\u001b[0m\u001b[0m\n\u001b[0m\u001b[1;32m     11\u001b[0m         \u001b[0;32mif\u001b[0m \u001b[0misbox\u001b[0m\u001b[0;34m(\u001b[0m\u001b[0mend_box\u001b[0m\u001b[0;34m)\u001b[0m \u001b[0;32mand\u001b[0m \u001b[0mend_box\u001b[0m\u001b[0;34m.\u001b[0m\u001b[0m_trace\u001b[0m \u001b[0;34m==\u001b[0m \u001b[0mstart_box\u001b[0m\u001b[0;34m.\u001b[0m\u001b[0m_trace\u001b[0m\u001b[0;34m:\u001b[0m\u001b[0;34m\u001b[0m\u001b[0m\n\u001b[1;32m     12\u001b[0m             \u001b[0;32mreturn\u001b[0m \u001b[0mend_box\u001b[0m\u001b[0;34m.\u001b[0m\u001b[0m_value\u001b[0m\u001b[0;34m,\u001b[0m \u001b[0mend_box\u001b[0m\u001b[0;34m.\u001b[0m\u001b[0m_node\u001b[0m\u001b[0;34m\u001b[0m\u001b[0m\n",
      "\u001b[0;32m~/anaconda3/envs/gps/lib/python3.6/site-packages/autograd/wrap_util.py\u001b[0m in \u001b[0;36munary_f\u001b[0;34m(x)\u001b[0m\n\u001b[1;32m     13\u001b[0m                 \u001b[0;32melse\u001b[0m\u001b[0;34m:\u001b[0m\u001b[0;34m\u001b[0m\u001b[0m\n\u001b[1;32m     14\u001b[0m                     \u001b[0msubargs\u001b[0m \u001b[0;34m=\u001b[0m \u001b[0msubvals\u001b[0m\u001b[0;34m(\u001b[0m\u001b[0margs\u001b[0m\u001b[0;34m,\u001b[0m \u001b[0mzip\u001b[0m\u001b[0;34m(\u001b[0m\u001b[0margnum\u001b[0m\u001b[0;34m,\u001b[0m \u001b[0mx\u001b[0m\u001b[0;34m)\u001b[0m\u001b[0;34m)\u001b[0m\u001b[0;34m\u001b[0m\u001b[0m\n\u001b[0;32m---> 15\u001b[0;31m                 \u001b[0;32mreturn\u001b[0m \u001b[0mfun\u001b[0m\u001b[0;34m(\u001b[0m\u001b[0;34m*\u001b[0m\u001b[0msubargs\u001b[0m\u001b[0;34m,\u001b[0m \u001b[0;34m**\u001b[0m\u001b[0mkwargs\u001b[0m\u001b[0;34m)\u001b[0m\u001b[0;34m\u001b[0m\u001b[0m\n\u001b[0m\u001b[1;32m     16\u001b[0m             \u001b[0;32mif\u001b[0m \u001b[0misinstance\u001b[0m\u001b[0;34m(\u001b[0m\u001b[0margnum\u001b[0m\u001b[0;34m,\u001b[0m \u001b[0mint\u001b[0m\u001b[0;34m)\u001b[0m\u001b[0;34m:\u001b[0m\u001b[0;34m\u001b[0m\u001b[0m\n\u001b[1;32m     17\u001b[0m                 \u001b[0mx\u001b[0m \u001b[0;34m=\u001b[0m \u001b[0margs\u001b[0m\u001b[0;34m[\u001b[0m\u001b[0margnum\u001b[0m\u001b[0;34m]\u001b[0m\u001b[0;34m\u001b[0m\u001b[0m\n",
      "\u001b[0;32m<ipython-input-4-d4993c7e166c>\u001b[0m in \u001b[0;36m<lambda>\u001b[0;34m(theta0)\u001b[0m\n\u001b[1;32m     20\u001b[0m \u001b[0;34m\u001b[0m\u001b[0m\n\u001b[1;32m     21\u001b[0m         \u001b[0;31m# define objective function: negative log marginal likelihood\u001b[0m\u001b[0;34m\u001b[0m\u001b[0;34m\u001b[0m\u001b[0m\n\u001b[0;32m---> 22\u001b[0;31m         \u001b[0mobjective\u001b[0m \u001b[0;34m=\u001b[0m \u001b[0;32mlambda\u001b[0m \u001b[0mtheta0\u001b[0m\u001b[0;34m:\u001b[0m \u001b[0;34m-\u001b[0m\u001b[0mself\u001b[0m\u001b[0;34m.\u001b[0m\u001b[0mlog_marginal_likelihood\u001b[0m\u001b[0;34m(\u001b[0m\u001b[0mtheta0\u001b[0m\u001b[0;34m)\u001b[0m\u001b[0;34m\u001b[0m\u001b[0m\n\u001b[0m\u001b[1;32m     23\u001b[0m \u001b[0;34m\u001b[0m\u001b[0m\n\u001b[1;32m     24\u001b[0m         \u001b[0;31m# minimize negative log marginal likelihood\u001b[0m\u001b[0;34m\u001b[0m\u001b[0;34m\u001b[0m\u001b[0m\n",
      "\u001b[0;32m<ipython-input-4-d4993c7e166c>\u001b[0m in \u001b[0;36mlog_marginal_likelihood\u001b[0;34m(self, params)\u001b[0m\n\u001b[1;32m     92\u001b[0m         \u001b[0mwhite_kern\u001b[0m \u001b[0;34m=\u001b[0m \u001b[0mnoise_scale\u001b[0m \u001b[0;34m*\u001b[0m \u001b[0mnp\u001b[0m\u001b[0;34m.\u001b[0m\u001b[0meye\u001b[0m\u001b[0;34m(\u001b[0m\u001b[0mlen\u001b[0m\u001b[0;34m(\u001b[0m\u001b[0my_train\u001b[0m\u001b[0;34m)\u001b[0m\u001b[0;34m)\u001b[0m\u001b[0;34m\u001b[0m\u001b[0m\n\u001b[1;32m     93\u001b[0m         \u001b[0mprint\u001b[0m\u001b[0;34m(\u001b[0m\u001b[0mktrain\u001b[0m\u001b[0;34m.\u001b[0m\u001b[0mshape\u001b[0m\u001b[0;34m,\u001b[0m \u001b[0mwhite_kern\u001b[0m\u001b[0;34m.\u001b[0m\u001b[0mshape\u001b[0m\u001b[0;34m)\u001b[0m\u001b[0;34m\u001b[0m\u001b[0m\n\u001b[0;32m---> 94\u001b[0;31m         \u001b[0mK\u001b[0m \u001b[0;34m=\u001b[0m \u001b[0mktrain\u001b[0m \u001b[0;34m+\u001b[0m \u001b[0mwhite_kern\u001b[0m\u001b[0;34m\u001b[0m\u001b[0m\n\u001b[0m\u001b[1;32m     95\u001b[0m \u001b[0;31m#         # calculate the covariance matrix\u001b[0m\u001b[0;34m\u001b[0m\u001b[0;34m\u001b[0m\u001b[0m\n\u001b[1;32m     96\u001b[0m \u001b[0;31m#         K = self.K(x_train, length_scale=length_scale)\u001b[0m\u001b[0;34m\u001b[0m\u001b[0;34m\u001b[0m\u001b[0m\n",
      "\u001b[0;32m~/anaconda3/envs/gps/lib/python3.6/site-packages/autograd/numpy/numpy_boxes.py\u001b[0m in \u001b[0;36m__radd__\u001b[0;34m(self, other)\u001b[0m\n\u001b[1;32m     30\u001b[0m     \u001b[0;32mdef\u001b[0m \u001b[0m__truediv__\u001b[0m\u001b[0;34m(\u001b[0m\u001b[0mself\u001b[0m\u001b[0;34m,\u001b[0m \u001b[0mother\u001b[0m\u001b[0;34m)\u001b[0m\u001b[0;34m:\u001b[0m \u001b[0;32mreturn\u001b[0m \u001b[0manp\u001b[0m\u001b[0;34m.\u001b[0m\u001b[0mtrue_divide\u001b[0m\u001b[0;34m(\u001b[0m\u001b[0mself\u001b[0m\u001b[0;34m,\u001b[0m \u001b[0mother\u001b[0m\u001b[0;34m)\u001b[0m\u001b[0;34m\u001b[0m\u001b[0m\n\u001b[1;32m     31\u001b[0m     \u001b[0;32mdef\u001b[0m \u001b[0m__matmul__\u001b[0m\u001b[0;34m(\u001b[0m\u001b[0mself\u001b[0m\u001b[0;34m,\u001b[0m \u001b[0mother\u001b[0m\u001b[0;34m)\u001b[0m\u001b[0;34m:\u001b[0m \u001b[0;32mreturn\u001b[0m \u001b[0manp\u001b[0m\u001b[0;34m.\u001b[0m\u001b[0mmatmul\u001b[0m\u001b[0;34m(\u001b[0m\u001b[0mself\u001b[0m\u001b[0;34m,\u001b[0m \u001b[0mother\u001b[0m\u001b[0;34m)\u001b[0m\u001b[0;34m\u001b[0m\u001b[0m\n\u001b[0;32m---> 32\u001b[0;31m     \u001b[0;32mdef\u001b[0m \u001b[0m__radd__\u001b[0m\u001b[0;34m(\u001b[0m\u001b[0mself\u001b[0m\u001b[0;34m,\u001b[0m \u001b[0mother\u001b[0m\u001b[0;34m)\u001b[0m\u001b[0;34m:\u001b[0m \u001b[0;32mreturn\u001b[0m \u001b[0manp\u001b[0m\u001b[0;34m.\u001b[0m\u001b[0madd\u001b[0m\u001b[0;34m(\u001b[0m     \u001b[0mother\u001b[0m\u001b[0;34m,\u001b[0m \u001b[0mself\u001b[0m\u001b[0;34m)\u001b[0m\u001b[0;34m\u001b[0m\u001b[0m\n\u001b[0m\u001b[1;32m     33\u001b[0m     \u001b[0;32mdef\u001b[0m \u001b[0m__rsub__\u001b[0m\u001b[0;34m(\u001b[0m\u001b[0mself\u001b[0m\u001b[0;34m,\u001b[0m \u001b[0mother\u001b[0m\u001b[0;34m)\u001b[0m\u001b[0;34m:\u001b[0m \u001b[0;32mreturn\u001b[0m \u001b[0manp\u001b[0m\u001b[0;34m.\u001b[0m\u001b[0msubtract\u001b[0m\u001b[0;34m(\u001b[0m\u001b[0mother\u001b[0m\u001b[0;34m,\u001b[0m \u001b[0mself\u001b[0m\u001b[0;34m)\u001b[0m\u001b[0;34m\u001b[0m\u001b[0m\n\u001b[1;32m     34\u001b[0m     \u001b[0;32mdef\u001b[0m \u001b[0m__rmul__\u001b[0m\u001b[0;34m(\u001b[0m\u001b[0mself\u001b[0m\u001b[0;34m,\u001b[0m \u001b[0mother\u001b[0m\u001b[0;34m)\u001b[0m\u001b[0;34m:\u001b[0m \u001b[0;32mreturn\u001b[0m \u001b[0manp\u001b[0m\u001b[0;34m.\u001b[0m\u001b[0mmultiply\u001b[0m\u001b[0;34m(\u001b[0m\u001b[0mother\u001b[0m\u001b[0;34m,\u001b[0m \u001b[0mself\u001b[0m\u001b[0;34m)\u001b[0m\u001b[0;34m\u001b[0m\u001b[0m\n",
      "\u001b[0;32m~/anaconda3/envs/gps/lib/python3.6/site-packages/autograd/tracer.py\u001b[0m in \u001b[0;36mf_wrapped\u001b[0;34m(*args, **kwargs)\u001b[0m\n\u001b[1;32m     42\u001b[0m             \u001b[0mparents\u001b[0m \u001b[0;34m=\u001b[0m \u001b[0mtuple\u001b[0m\u001b[0;34m(\u001b[0m\u001b[0mbox\u001b[0m\u001b[0;34m.\u001b[0m\u001b[0m_node\u001b[0m \u001b[0;32mfor\u001b[0m \u001b[0m_\u001b[0m     \u001b[0;34m,\u001b[0m \u001b[0mbox\u001b[0m \u001b[0;32min\u001b[0m \u001b[0mboxed_args\u001b[0m\u001b[0;34m)\u001b[0m\u001b[0;34m\u001b[0m\u001b[0m\n\u001b[1;32m     43\u001b[0m             \u001b[0margnums\u001b[0m \u001b[0;34m=\u001b[0m \u001b[0mtuple\u001b[0m\u001b[0;34m(\u001b[0m\u001b[0margnum\u001b[0m    \u001b[0;32mfor\u001b[0m \u001b[0margnum\u001b[0m\u001b[0;34m,\u001b[0m \u001b[0m_\u001b[0m   \u001b[0;32min\u001b[0m \u001b[0mboxed_args\u001b[0m\u001b[0;34m)\u001b[0m\u001b[0;34m\u001b[0m\u001b[0m\n\u001b[0;32m---> 44\u001b[0;31m             \u001b[0mans\u001b[0m \u001b[0;34m=\u001b[0m \u001b[0mf_wrapped\u001b[0m\u001b[0;34m(\u001b[0m\u001b[0;34m*\u001b[0m\u001b[0margvals\u001b[0m\u001b[0;34m,\u001b[0m \u001b[0;34m**\u001b[0m\u001b[0mkwargs\u001b[0m\u001b[0;34m)\u001b[0m\u001b[0;34m\u001b[0m\u001b[0m\n\u001b[0m\u001b[1;32m     45\u001b[0m             \u001b[0mnode\u001b[0m \u001b[0;34m=\u001b[0m \u001b[0mnode_constructor\u001b[0m\u001b[0;34m(\u001b[0m\u001b[0mans\u001b[0m\u001b[0;34m,\u001b[0m \u001b[0mf_wrapped\u001b[0m\u001b[0;34m,\u001b[0m \u001b[0margvals\u001b[0m\u001b[0;34m,\u001b[0m \u001b[0mkwargs\u001b[0m\u001b[0;34m,\u001b[0m \u001b[0margnums\u001b[0m\u001b[0;34m,\u001b[0m \u001b[0mparents\u001b[0m\u001b[0;34m)\u001b[0m\u001b[0;34m\u001b[0m\u001b[0m\n\u001b[1;32m     46\u001b[0m             \u001b[0;32mreturn\u001b[0m \u001b[0mnew_box\u001b[0m\u001b[0;34m(\u001b[0m\u001b[0mans\u001b[0m\u001b[0;34m,\u001b[0m \u001b[0mtrace\u001b[0m\u001b[0;34m,\u001b[0m \u001b[0mnode\u001b[0m\u001b[0;34m)\u001b[0m\u001b[0;34m\u001b[0m\u001b[0m\n",
      "\u001b[0;32m~/anaconda3/envs/gps/lib/python3.6/site-packages/autograd/tracer.py\u001b[0m in \u001b[0;36mf_wrapped\u001b[0;34m(*args, **kwargs)\u001b[0m\n\u001b[1;32m     46\u001b[0m             \u001b[0;32mreturn\u001b[0m \u001b[0mnew_box\u001b[0m\u001b[0;34m(\u001b[0m\u001b[0mans\u001b[0m\u001b[0;34m,\u001b[0m \u001b[0mtrace\u001b[0m\u001b[0;34m,\u001b[0m \u001b[0mnode\u001b[0m\u001b[0;34m)\u001b[0m\u001b[0;34m\u001b[0m\u001b[0m\n\u001b[1;32m     47\u001b[0m         \u001b[0;32melse\u001b[0m\u001b[0;34m:\u001b[0m\u001b[0;34m\u001b[0m\u001b[0m\n\u001b[0;32m---> 48\u001b[0;31m             \u001b[0;32mreturn\u001b[0m \u001b[0mf_raw\u001b[0m\u001b[0;34m(\u001b[0m\u001b[0;34m*\u001b[0m\u001b[0margs\u001b[0m\u001b[0;34m,\u001b[0m \u001b[0;34m**\u001b[0m\u001b[0mkwargs\u001b[0m\u001b[0;34m)\u001b[0m\u001b[0;34m\u001b[0m\u001b[0m\n\u001b[0m\u001b[1;32m     49\u001b[0m     \u001b[0mf_wrapped\u001b[0m\u001b[0;34m.\u001b[0m\u001b[0mfun\u001b[0m \u001b[0;34m=\u001b[0m \u001b[0mf_raw\u001b[0m\u001b[0;34m\u001b[0m\u001b[0m\n\u001b[1;32m     50\u001b[0m     \u001b[0mf_wrapped\u001b[0m\u001b[0;34m.\u001b[0m\u001b[0m_is_autograd_primitive\u001b[0m \u001b[0;34m=\u001b[0m \u001b[0;32mTrue\u001b[0m\u001b[0;34m\u001b[0m\u001b[0m\n",
      "\u001b[0;32m~/anaconda3/envs/gps/lib/python3.6/site-packages/autograd/numpy/numpy_boxes.py\u001b[0m in \u001b[0;36m__add__\u001b[0;34m(self, other)\u001b[0m\n\u001b[1;32m     22\u001b[0m \u001b[0;34m\u001b[0m\u001b[0m\n\u001b[1;32m     23\u001b[0m     \u001b[0;32mdef\u001b[0m \u001b[0m__neg__\u001b[0m\u001b[0;34m(\u001b[0m\u001b[0mself\u001b[0m\u001b[0;34m)\u001b[0m\u001b[0;34m:\u001b[0m \u001b[0;32mreturn\u001b[0m \u001b[0manp\u001b[0m\u001b[0;34m.\u001b[0m\u001b[0mnegative\u001b[0m\u001b[0;34m(\u001b[0m\u001b[0mself\u001b[0m\u001b[0;34m)\u001b[0m\u001b[0;34m\u001b[0m\u001b[0m\n\u001b[0;32m---> 24\u001b[0;31m     \u001b[0;32mdef\u001b[0m \u001b[0m__add__\u001b[0m\u001b[0;34m(\u001b[0m\u001b[0mself\u001b[0m\u001b[0;34m,\u001b[0m \u001b[0mother\u001b[0m\u001b[0;34m)\u001b[0m\u001b[0;34m:\u001b[0m \u001b[0;32mreturn\u001b[0m \u001b[0manp\u001b[0m\u001b[0;34m.\u001b[0m\u001b[0madd\u001b[0m\u001b[0;34m(\u001b[0m     \u001b[0mself\u001b[0m\u001b[0;34m,\u001b[0m \u001b[0mother\u001b[0m\u001b[0;34m)\u001b[0m\u001b[0;34m\u001b[0m\u001b[0m\n\u001b[0m\u001b[1;32m     25\u001b[0m     \u001b[0;32mdef\u001b[0m \u001b[0m__sub__\u001b[0m\u001b[0;34m(\u001b[0m\u001b[0mself\u001b[0m\u001b[0;34m,\u001b[0m \u001b[0mother\u001b[0m\u001b[0;34m)\u001b[0m\u001b[0;34m:\u001b[0m \u001b[0;32mreturn\u001b[0m \u001b[0manp\u001b[0m\u001b[0;34m.\u001b[0m\u001b[0msubtract\u001b[0m\u001b[0;34m(\u001b[0m\u001b[0mself\u001b[0m\u001b[0;34m,\u001b[0m \u001b[0mother\u001b[0m\u001b[0;34m)\u001b[0m\u001b[0;34m\u001b[0m\u001b[0m\n\u001b[1;32m     26\u001b[0m     \u001b[0;32mdef\u001b[0m \u001b[0m__mul__\u001b[0m\u001b[0;34m(\u001b[0m\u001b[0mself\u001b[0m\u001b[0;34m,\u001b[0m \u001b[0mother\u001b[0m\u001b[0;34m)\u001b[0m\u001b[0;34m:\u001b[0m \u001b[0;32mreturn\u001b[0m \u001b[0manp\u001b[0m\u001b[0;34m.\u001b[0m\u001b[0mmultiply\u001b[0m\u001b[0;34m(\u001b[0m\u001b[0mself\u001b[0m\u001b[0;34m,\u001b[0m \u001b[0mother\u001b[0m\u001b[0;34m)\u001b[0m\u001b[0;34m\u001b[0m\u001b[0m\n",
      "\u001b[0;32m~/anaconda3/envs/gps/lib/python3.6/site-packages/autograd/tracer.py\u001b[0m in \u001b[0;36mf_wrapped\u001b[0;34m(*args, **kwargs)\u001b[0m\n\u001b[1;32m     35\u001b[0m     \u001b[0;34m@\u001b[0m\u001b[0mwraps\u001b[0m\u001b[0;34m(\u001b[0m\u001b[0mf_raw\u001b[0m\u001b[0;34m)\u001b[0m\u001b[0;34m\u001b[0m\u001b[0m\n\u001b[1;32m     36\u001b[0m     \u001b[0;32mdef\u001b[0m \u001b[0mf_wrapped\u001b[0m\u001b[0;34m(\u001b[0m\u001b[0;34m*\u001b[0m\u001b[0margs\u001b[0m\u001b[0;34m,\u001b[0m \u001b[0;34m**\u001b[0m\u001b[0mkwargs\u001b[0m\u001b[0;34m)\u001b[0m\u001b[0;34m:\u001b[0m\u001b[0;34m\u001b[0m\u001b[0m\n\u001b[0;32m---> 37\u001b[0;31m         \u001b[0mboxed_args\u001b[0m\u001b[0;34m,\u001b[0m \u001b[0mtrace\u001b[0m\u001b[0;34m,\u001b[0m \u001b[0mnode_constructor\u001b[0m \u001b[0;34m=\u001b[0m \u001b[0mfind_top_boxed_args\u001b[0m\u001b[0;34m(\u001b[0m\u001b[0margs\u001b[0m\u001b[0;34m)\u001b[0m\u001b[0;34m\u001b[0m\u001b[0m\n\u001b[0m\u001b[1;32m     38\u001b[0m         \u001b[0;32mif\u001b[0m \u001b[0mboxed_args\u001b[0m\u001b[0;34m:\u001b[0m\u001b[0;34m\u001b[0m\u001b[0m\n\u001b[1;32m     39\u001b[0m             \u001b[0margvals\u001b[0m \u001b[0;34m=\u001b[0m \u001b[0msubvals\u001b[0m\u001b[0;34m(\u001b[0m\u001b[0margs\u001b[0m\u001b[0;34m,\u001b[0m \u001b[0;34m[\u001b[0m\u001b[0;34m(\u001b[0m\u001b[0margnum\u001b[0m\u001b[0;34m,\u001b[0m \u001b[0mbox\u001b[0m\u001b[0;34m.\u001b[0m\u001b[0m_value\u001b[0m\u001b[0;34m)\u001b[0m \u001b[0;32mfor\u001b[0m \u001b[0margnum\u001b[0m\u001b[0;34m,\u001b[0m \u001b[0mbox\u001b[0m \u001b[0;32min\u001b[0m \u001b[0mboxed_args\u001b[0m\u001b[0;34m]\u001b[0m\u001b[0;34m)\u001b[0m\u001b[0;34m\u001b[0m\u001b[0m\n",
      "\u001b[0;32m~/anaconda3/envs/gps/lib/python3.6/site-packages/autograd/tracer.py\u001b[0m in \u001b[0;36mfind_top_boxed_args\u001b[0;34m(args)\u001b[0m\n\u001b[1;32m     69\u001b[0m     \u001b[0;32mfor\u001b[0m \u001b[0margnum\u001b[0m\u001b[0;34m,\u001b[0m \u001b[0marg\u001b[0m \u001b[0;32min\u001b[0m \u001b[0menumerate\u001b[0m\u001b[0;34m(\u001b[0m\u001b[0margs\u001b[0m\u001b[0;34m)\u001b[0m\u001b[0;34m:\u001b[0m\u001b[0;34m\u001b[0m\u001b[0m\n\u001b[1;32m     70\u001b[0m         \u001b[0;32mif\u001b[0m \u001b[0misbox\u001b[0m\u001b[0;34m(\u001b[0m\u001b[0marg\u001b[0m\u001b[0;34m)\u001b[0m\u001b[0;34m:\u001b[0m\u001b[0;34m\u001b[0m\u001b[0m\n\u001b[0;32m---> 71\u001b[0;31m             \u001b[0mtrace\u001b[0m \u001b[0;34m=\u001b[0m \u001b[0marg\u001b[0m\u001b[0;34m.\u001b[0m\u001b[0m_trace\u001b[0m\u001b[0;34m\u001b[0m\u001b[0m\n\u001b[0m\u001b[1;32m     72\u001b[0m             \u001b[0;32mif\u001b[0m \u001b[0mtrace\u001b[0m \u001b[0;34m>\u001b[0m \u001b[0mtop_trace\u001b[0m\u001b[0;34m:\u001b[0m\u001b[0;34m\u001b[0m\u001b[0m\n\u001b[1;32m     73\u001b[0m                 \u001b[0mtop_boxes\u001b[0m \u001b[0;34m=\u001b[0m \u001b[0;34m[\u001b[0m\u001b[0;34m(\u001b[0m\u001b[0margnum\u001b[0m\u001b[0;34m,\u001b[0m \u001b[0marg\u001b[0m\u001b[0;34m)\u001b[0m\u001b[0;34m]\u001b[0m\u001b[0;34m\u001b[0m\u001b[0m\n",
      "\u001b[0;31mAttributeError\u001b[0m: _trace"
     ]
    }
   ],
   "source": [
    "# Initialize the model\n",
    "gp_model = GaussianProcessRegressor(random_state=seed)\n",
    "\n",
    "# fit the gp model to the inputs and targets\n",
    "gp_model.fit(xtrain, ytrain)\n",
    "\n",
    "y_pred, sigma = gp_model.predict(xtest, return_std=True)\n",
    "# print(mu_der)\n",
    "# tmp = y_pred.astype()\n",
    "# print(tmp)\n",
    "fig, ax = plt.subplots()\n",
    "\n",
    "# ax.scatter(xtrain, ytrain)\n",
    "ax.scatter(xtrain, ytrain)\n",
    "ax.plot(xtest, y_pred)\n",
    "ax.plot(xtest, mu_der)\n",
    "plt.show()"
   ]
  },
  {
   "cell_type": "code",
   "execution_count": 1,
   "metadata": {},
   "outputs": [
    {
     "ename": "NameError",
     "evalue": "name 'GaussianProcessRegressor' is not defined",
     "output_type": "error",
     "traceback": [
      "\u001b[0;31m---------------------------------------------------------------------------\u001b[0m",
      "\u001b[0;31mNameError\u001b[0m                                 Traceback (most recent call last)",
      "\u001b[0;32m<ipython-input-1-0d5eb35a2838>\u001b[0m in \u001b[0;36m<module>\u001b[0;34m()\u001b[0m\n\u001b[1;32m      1\u001b[0m \u001b[0;31m# Initialize the model\u001b[0m\u001b[0;34m\u001b[0m\u001b[0;34m\u001b[0m\u001b[0m\n\u001b[0;32m----> 2\u001b[0;31m \u001b[0mgp_model\u001b[0m \u001b[0;34m=\u001b[0m \u001b[0mGaussianProcessRegressor\u001b[0m\u001b[0;34m(\u001b[0m\u001b[0mrandom_state\u001b[0m\u001b[0;34m=\u001b[0m\u001b[0mseed\u001b[0m\u001b[0;34m)\u001b[0m\u001b[0;34m\u001b[0m\u001b[0m\n\u001b[0m\u001b[1;32m      3\u001b[0m \u001b[0;34m\u001b[0m\u001b[0m\n\u001b[1;32m      4\u001b[0m \u001b[0;31m# fit the gp model to the inputs and targets\u001b[0m\u001b[0;34m\u001b[0m\u001b[0;34m\u001b[0m\u001b[0m\n\u001b[1;32m      5\u001b[0m \u001b[0mgp_model\u001b[0m\u001b[0;34m.\u001b[0m\u001b[0mfit\u001b[0m\u001b[0;34m(\u001b[0m\u001b[0mxtrain\u001b[0m\u001b[0;34m,\u001b[0m \u001b[0mytrain\u001b[0m\u001b[0;34m)\u001b[0m\u001b[0;34m\u001b[0m\u001b[0m\n",
      "\u001b[0;31mNameError\u001b[0m: name 'GaussianProcessRegressor' is not defined"
     ]
    }
   ],
   "source": [
    "# Initialize the model\n",
    "gp_model = GaussianProcessRegressor(random_state=seed)\n",
    "\n",
    "# fit the gp model to the inputs and targets\n",
    "gp_model.fit(xtrain, ytrain)\n",
    "\n",
    "\n",
    "mu = lambda x: gp_model.predict(x)\n",
    "y_pred = mu(xtest)\n",
    "print(y_pred.shape)\n",
    "auto_grad = autograd.grad(mu)\n",
    "\n",
    "tmp = auto_grad(xtest)"
   ]
  },
  {
   "cell_type": "code",
   "execution_count": null,
   "metadata": {},
   "outputs": [],
   "source": []
  },
  {
   "cell_type": "code",
   "execution_count": 112,
   "metadata": {},
   "outputs": [
    {
     "name": "stdout",
     "output_type": "stream",
     "text": [
      "Initial loss: 2.772588722239781\n",
      "Trained loss: 1.067270675787016\n"
     ]
    }
   ],
   "source": [
    "import autograd.numpy as np   # Thinly-wrapped version of Numpy\n",
    "from autograd import grad\n",
    "\n",
    "def taylor_sine(x):  # Taylor approximation to sine function\n",
    "    ans = currterm = x\n",
    "    i = 0\n",
    "    while np.abs(currterm) > 0.001:\n",
    "        currterm = -currterm * x**2 / ((2 * i + 3) * (2 * i + 2))\n",
    "        ans = ans + currterm\n",
    "        i += 1\n",
    "    return ans\n",
    "\n",
    "grad_sine = grad(taylor_sine)\n",
    "print(\"Gradient of sin(pi) is\", grad_sine(np.pi))\n",
    "print()"
   ]
  },
  {
   "cell_type": "code",
   "execution_count": 114,
   "metadata": {},
   "outputs": [
    {
     "name": "stdout",
     "output_type": "stream",
     "text": [
      "<function unary_to_nary.<locals>.nary_operator.<locals>.nary_f at 0x7f6f8ecac0d0>\n"
     ]
    }
   ],
   "source": [
    "print(training_gradient_fun)"
   ]
  },
  {
   "cell_type": "code",
   "execution_count": 9,
   "metadata": {},
   "outputs": [],
   "source": [
    "from __future__ import absolute_import\n",
    "from __future__ import print_function\n",
    "import matplotlib.pyplot as plt\n",
    "\n",
    "import autograd.numpy as np\n",
    "import autograd.numpy.random as npr\n",
    "from autograd.numpy.linalg import solve\n",
    "import autograd.scipy.stats.multivariate_normal as mvn\n",
    "from autograd import value_and_grad\n",
    "from scipy.optimize import minimize\n",
    "\n",
    "\n",
    "def make_gp_funs(cov_func, num_cov_params):\n",
    "    \"\"\"Functions that perform Gaussian process regression.\n",
    "       cov_func has signature (cov_params, x, x')\"\"\"\n",
    "\n",
    "    def unpack_kernel_params(params):\n",
    "        mean        = params[0]\n",
    "        cov_params  = params[2:]\n",
    "        noise_scale = np.exp(params[1]) + 0.0001\n",
    "        return mean, cov_params, noise_scale\n",
    "\n",
    "    def predict(params, x, y, xstar):\n",
    "        \"\"\"Returns the predictive mean and covariance at locations xstar,\n",
    "           of the latent function value f (without observation noise).\"\"\"\n",
    "        mean, cov_params, noise_scale = unpack_kernel_params(params)\n",
    "        cov_f_f = cov_func(cov_params, xstar, xstar)\n",
    "        cov_y_f = cov_func(cov_params, x, xstar)\n",
    "        cov_y_y = cov_func(cov_params, x, x) + noise_scale * np.eye(len(y))\n",
    "        pred_mean = mean +   np.dot(solve(cov_y_y, cov_y_f).T, y - mean)\n",
    "        pred_cov = cov_f_f - np.dot(solve(cov_y_y, cov_y_f).T, cov_y_f)\n",
    "        return pred_mean, pred_cov\n",
    "\n",
    "    def log_marginal_likelihood(params, x, y):\n",
    "        mean, cov_params, noise_scale = unpack_kernel_params(params)\n",
    "        cov_y_y = cov_func(cov_params, x, x) + noise_scale * np.eye(len(y))\n",
    "        prior_mean = mean * np.ones(len(y))\n",
    "        log_max = mvn.logpdf(y, prior_mean, cov_y_y)\n",
    "        print(log_max)\n",
    "        return log_max\n",
    "\n",
    "    return num_cov_params + 2, predict, log_marginal_likelihood\n",
    "\n",
    "# Define an example covariance function.\n",
    "def rbf_covariance(kernel_params, x, xp):\n",
    "    output_scale = np.exp(kernel_params[0])\n",
    "    lengthscales = np.exp(kernel_params[1:])\n",
    "    diffs = np.expand_dims(x /lengthscales, 1)\\\n",
    "          - np.expand_dims(xp/lengthscales, 0)\n",
    "    return output_scale * np.exp(-0.5 * np.sum(diffs**2, axis=2))\n",
    "\n",
    "\n",
    "def build_toy_dataset(D=1, n_data=20, noise_std=0.1):\n",
    "    rs = npr.RandomState(0)\n",
    "    inputs  = np.concatenate([np.linspace(0, 3, num=n_data/2),\n",
    "                              np.linspace(6, 8, num=n_data/2)])\n",
    "    targets = (np.cos(inputs) + rs.randn(n_data) * noise_std) / 2.0\n",
    "    inputs = (inputs - 4.0) / 2.0\n",
    "    inputs  = inputs.reshape((len(inputs), D))\n",
    "    return inputs, targets\n",
    "\n",
    "\n",
    "def callback(params):\n",
    "    print(\"Log likelihood {}\".format(-objective(params)))\n",
    "    plt.cla()\n",
    "\n",
    "    # Show posterior marginals.\n",
    "    plot_xs = np.reshape(np.linspace(-7, 7, 300), (300,1))\n",
    "    pred_mean, pred_cov = predict(params, X, y, plot_xs)\n",
    "    marg_std = np.sqrt(np.diag(pred_cov))\n",
    "    ax.plot(plot_xs, pred_mean, 'b')\n",
    "    ax.fill(np.concatenate([plot_xs, plot_xs[::-1]]),\n",
    "            np.concatenate([pred_mean - 1.96 * marg_std,\n",
    "                           (pred_mean + 1.96 * marg_std)[::-1]]),\n",
    "            alpha=.15, fc='Blue', ec='None')\n",
    "\n",
    "    # Show samples from posterior.\n",
    "    rs = npr.RandomState(0)\n",
    "    sampled_funcs = rs.multivariate_normal(pred_mean, pred_cov, size=10)\n",
    "    ax.plot(plot_xs, sampled_funcs.T)\n",
    "\n",
    "\n",
    "    ax.plot(X, y, 'kx')\n",
    "    ax.set_ylim([-1.5, 1.5])\n",
    "    ax.set_xticks([])\n",
    "    ax.set_yticks([])\n",
    "    plt.draw()\n",
    "    plt.pause(1.0/60.0)"
   ]
  },
  {
   "cell_type": "code",
   "execution_count": 10,
   "metadata": {},
   "outputs": [
    {
     "name": "stdout",
     "output_type": "stream",
     "text": [
      "Optimizing covariance parameters...\n",
      "Autograd ArrayBox with value -22.415047313431167\n",
      "Autograd ArrayBox with value -22.415047313431167\n",
      "Autograd ArrayBox with value -31.027858408194493\n",
      "Autograd ArrayBox with value -23.16615895604356\n",
      "Autograd ArrayBox with value -22.483631947480745\n",
      "Autograd ArrayBox with value -22.421337554524072\n",
      "Autograd ArrayBox with value -22.415624457696325\n",
      "Autograd ArrayBox with value -22.415100269737973\n",
      "Autograd ArrayBox with value -22.415052172493635\n",
      "Autograd ArrayBox with value -22.415047759279766\n",
      "Autograd ArrayBox with value -22.415047354340498\n",
      "Autograd ArrayBox with value -22.41504731718485\n",
      "Autograd ArrayBox with value -22.415047313775595\n",
      "Autograd ArrayBox with value -22.41504731346277\n",
      "Autograd ArrayBox with value -22.415047313434062\n",
      "Autograd ArrayBox with value -22.415047313431437\n",
      "Autograd ArrayBox with value -22.415047313431195\n",
      "Autograd ArrayBox with value -22.415047313431167\n",
      "Autograd ArrayBox with value -22.41504731343117\n",
      "Autograd ArrayBox with value -22.415047313431167\n",
      "Autograd ArrayBox with value -22.415047313431167\n",
      "Autograd ArrayBox with value -22.415047313431167\n",
      "Autograd ArrayBox with value -22.415047313431167\n",
      "Autograd ArrayBox with value -22.415047313431167\n",
      "Autograd ArrayBox with value -22.415047313431167\n",
      "Autograd ArrayBox with value -22.415047313431167\n",
      "Autograd ArrayBox with value -22.415047313431167\n",
      "Autograd ArrayBox with value -22.41504731343117\n",
      "Autograd ArrayBox with value -22.415047313431167\n",
      "Autograd ArrayBox with value -22.415047313431167\n",
      "Autograd ArrayBox with value -22.41504731343117\n",
      "Autograd ArrayBox with value -22.415047313431167\n",
      "Autograd ArrayBox with value -22.415047313431167\n",
      "Autograd ArrayBox with value -22.41504731343117\n",
      "Autograd ArrayBox with value -22.415047313431167\n",
      "Autograd ArrayBox with value -22.415047313431167\n",
      "Autograd ArrayBox with value -22.41504731343117\n",
      "Autograd ArrayBox with value -22.415047313431167\n",
      "Autograd ArrayBox with value -22.415047313431167\n",
      "Autograd ArrayBox with value -22.415047313431167\n",
      "Autograd ArrayBox with value -22.415047313431167\n",
      "Autograd ArrayBox with value -22.415047313431167\n",
      "Autograd ArrayBox with value -22.41504731343117\n",
      "Autograd ArrayBox with value -22.415047313431167\n",
      "Autograd ArrayBox with value -22.415047313431167\n",
      "Autograd ArrayBox with value -22.415047313431167\n",
      "Autograd ArrayBox with value -22.415047313431167\n",
      "Autograd ArrayBox with value -22.415047313431167\n",
      "Autograd ArrayBox with value -22.415047313431167\n",
      "Autograd ArrayBox with value -22.415047313431167\n",
      "Autograd ArrayBox with value -22.415047313431167\n",
      "Autograd ArrayBox with value -22.41504731343117\n",
      "Autograd ArrayBox with value -22.415047313431167\n",
      "Autograd ArrayBox with value -22.415047313431167\n",
      "Autograd ArrayBox with value -22.41504731343117\n",
      "Autograd ArrayBox with value -22.415047313431167\n",
      "Autograd ArrayBox with value -22.415047313431167\n",
      "Autograd ArrayBox with value -22.415047313431167\n",
      "Autograd ArrayBox with value -22.415047313431167\n",
      "Autograd ArrayBox with value -22.415047313431167\n",
      "Autograd ArrayBox with value -22.41504731343117\n",
      "Autograd ArrayBox with value -22.415047313431167\n",
      "Autograd ArrayBox with value -22.415047313431167\n",
      "Autograd ArrayBox with value -22.415047313431167\n",
      "Autograd ArrayBox with value -22.415047313431167\n",
      "Autograd ArrayBox with value -22.415047313431167\n",
      "Autograd ArrayBox with value -22.41504731343117\n",
      "Autograd ArrayBox with value -22.415047313431167\n",
      "Autograd ArrayBox with value -22.415047313431167\n",
      "Autograd ArrayBox with value -22.41504731343117\n",
      "Autograd ArrayBox with value -22.415047313431167\n",
      "Autograd ArrayBox with value -22.415047313431167\n",
      "Autograd ArrayBox with value -22.41504731343117\n",
      "Autograd ArrayBox with value -22.415047313431167\n",
      "Autograd ArrayBox with value -22.415047313431167\n",
      "Autograd ArrayBox with value -22.41504731343117\n",
      "Autograd ArrayBox with value -22.415047313431167\n",
      "Autograd ArrayBox with value -22.415047313431167\n",
      "Autograd ArrayBox with value -22.415047313431167\n",
      "Autograd ArrayBox with value -22.415047313431167\n",
      "Autograd ArrayBox with value -22.415047313431167\n",
      "Autograd ArrayBox with value -22.415047313431167\n",
      "Autograd ArrayBox with value -22.415047313431167\n",
      "Autograd ArrayBox with value -22.415047313431167\n",
      "Autograd ArrayBox with value -22.41504731343117\n",
      "Autograd ArrayBox with value -22.415047313431167\n",
      "Autograd ArrayBox with value -22.415047313431167\n",
      "Autograd ArrayBox with value -22.41504731343117\n",
      "Autograd ArrayBox with value -22.415047313431167\n",
      "Autograd ArrayBox with value -22.415047313431167\n",
      "Autograd ArrayBox with value -22.41504731343117\n",
      "Autograd ArrayBox with value -22.415047313431167\n",
      "Autograd ArrayBox with value -22.415047313431167\n",
      "Autograd ArrayBox with value -22.415047313431167\n",
      "Autograd ArrayBox with value -22.415047313431167\n",
      "Autograd ArrayBox with value -31.027858408194493\n",
      "Autograd ArrayBox with value -24.494188467131\n",
      "Autograd ArrayBox with value -22.8563112792595\n",
      "Autograd ArrayBox with value -22.511338199154356\n",
      "Autograd ArrayBox with value -22.43602572218992\n",
      "Autograd ArrayBox with value -22.41962092264273\n",
      "Autograd ArrayBox with value -22.41604443760811\n",
      "Autograd ArrayBox with value -22.41526470797404\n",
      "Autograd ArrayBox with value -22.415094710216813\n",
      "Autograd ArrayBox with value -22.415057646979744\n",
      "Autograd ArrayBox with value -22.415049566373806\n",
      "Autograd ArrayBox with value -22.415047804622617\n"
     ]
    }
   ],
   "source": [
    "\n",
    "\n",
    "D = 1\n",
    "\n",
    "# Build model and objective function.\n",
    "num_params, predict, log_marginal_likelihood = \\\n",
    "    make_gp_funs(rbf_covariance, num_cov_params=D + 1)\n",
    "\n",
    "X, y = build_toy_dataset(D=D)\n",
    "objective = lambda params: -log_marginal_likelihood(params, X, y)\n",
    "\n",
    "\n",
    "\n",
    "# Initialize covariance parameters\n",
    "rs = npr.RandomState(0)\n",
    "init_params = 0.1 * rs.randn(num_params)\n",
    "\n",
    "print(\"Optimizing covariance parameters...\")\n",
    "cov_params = minimize(value_and_grad(objective), init_params, jac=True,\n",
    "                      method='CG')\n"
   ]
  },
  {
   "cell_type": "code",
   "execution_count": 105,
   "metadata": {},
   "outputs": [
    {
     "ename": "NameError",
     "evalue": "name 'xstar' is not defined",
     "output_type": "error",
     "traceback": [
      "\u001b[0;31m---------------------------------------------------------------------------\u001b[0m",
      "\u001b[0;31mNameError\u001b[0m                                 Traceback (most recent call last)",
      "\u001b[0;32m<ipython-input-105-608b09163591>\u001b[0m in \u001b[0;36m<module>\u001b[0;34m()\u001b[0m\n\u001b[0;32m----> 1\u001b[0;31m \u001b[0mprint\u001b[0m\u001b[0;34m(\u001b[0m\u001b[0mpredict\u001b[0m\u001b[0;34m(\u001b[0m\u001b[0mX\u001b[0m\u001b[0;34m,\u001b[0m \u001b[0my\u001b[0m\u001b[0;34m,\u001b[0m \u001b[0mxstar\u001b[0m\u001b[0;34m)\u001b[0m\u001b[0;34m)\u001b[0m\u001b[0;34m\u001b[0m\u001b[0m\n\u001b[0m",
      "\u001b[0;31mNameError\u001b[0m: name 'xstar' is not defined"
     ]
    }
   ],
   "source": [
    "print(predict(X, y, xstar))"
   ]
  },
  {
   "cell_type": "code",
   "execution_count": 152,
   "metadata": {},
   "outputs": [
    {
     "name": "stdout",
     "output_type": "stream",
     "text": [
      "-22.415047313431167\n",
      "22.415047313431167\n"
     ]
    }
   ],
   "source": [
    "# Build model and objective function.\n",
    "num_params, predict, log_marginal_likelihood = \\\n",
    "    make_gp_funs(rbf_covariance, num_cov_params=D + 1)\n",
    "\n",
    "X, y = build_toy_dataset(D=D)\n",
    "objective = lambda params: -log_marginal_likelihood(params, X, y)\n",
    "\n",
    "print(objective(init_params))"
   ]
  },
  {
   "cell_type": "code",
   "execution_count": null,
   "metadata": {},
   "outputs": [],
   "source": []
  }
 ],
 "metadata": {
  "kernelspec": {
   "display_name": "Python 3",
   "language": "python",
   "name": "python3"
  },
  "language_info": {
   "codemirror_mode": {
    "name": "ipython",
    "version": 3
   },
   "file_extension": ".py",
   "mimetype": "text/x-python",
   "name": "python",
   "nbconvert_exporter": "python",
   "pygments_lexer": "ipython3",
   "version": "3.6.6"
  }
 },
 "nbformat": 4,
 "nbformat_minor": 2
}
